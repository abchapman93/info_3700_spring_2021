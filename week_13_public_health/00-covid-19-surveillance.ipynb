{
 "cells": [
  {
   "cell_type": "code",
   "execution_count": null,
   "metadata": {},
   "outputs": [],
   "source": [
    "import pandas as pd\n",
    "\n",
    "import matplotlib.pyplot as plt\n",
    "%matplotlib inline\n",
    "\n",
    "import seaborn as sns\n",
    "sns.set()\n",
    "\n",
    "import numpy as np"
   ]
  },
  {
   "cell_type": "markdown",
   "metadata": {},
   "source": [
    "# Overview\n",
    "Our Public Health module is happening during a time when the role of public health is very apparent. The COVID-19 pandemic has impacted daily life across the entire globe. The analysis and reporting done by epidemiologists and public health organizations has become a vital source of information. We are probably all familiar with the graphs showing the growth and spread of COVID-19. In this notebook, we'll perform some of that analysis ourselves to analyze which countries have had the highest counts of COVID-19 and to analyze how the disease has spread both globally and in specific countries.\n",
    "\n",
    "## Public Health Surveillance\n",
    "Public health surveillance is the \"the continuous, systematic collection, analysis and interpretation of health-related data needed for the planning, implementation, and evaluation of public health practice.\" [[WHO](https://www.who.int/immunization/monitoring_surveillance/burden/vpd/en/)]. In the context of COVID-19, this means collecting, analyzing, and reporting data about the number of confirmed cases, hospitalizations, and deaths.\n",
    "\n",
    "Because surveillance depends heavily on medical data for both collection and visualizaton, Informatics is a crucial piece of COVID-19 surveillance and public health surveillance more generally. \n",
    "\n",
    "Here are 3 examples of COVID-19 surveillance systems:\n",
    "- [John Hopkins World Map](https://coronavirus.jhu.edu/map.html)\n",
    "- [Utah Department of Health COVID-19 Surveillance Dashboard](https://coronavirus.utah.gov/case-counts/)\n",
    "- [US Department of Veterans Affairs Access to Care](https://www.accesstocare.va.gov/Healthcare/COVID19NationalSummary)\n",
    "\n",
    "### Discussion\n",
    "Go to each of these websites and compare the data displayed in each dashboard. Consider the following questions:\n",
    "- What is the **scope** of the data? For example, is it global, national, or state-level? Does it include the entire population or focus on a specific sub-population?\n",
    "- What visualization tools are used in the dashboards?\n",
    "- In addition to overall COVID-19 counts, what other data elements are available to explore?\n",
    "\n",
    "### Data Source and Notebook Inspiration\n",
    "\n",
    "This is partially based on the following DataCamp project in R: [Visualizing COVID-19](https://projects.datacamp.com/projects/870). If you would prefer to complete this assignment in R, feel free to use the DataCamp project instead!\n",
    "\n",
    "The original data used in this notebook can be found here: https://github.com/RamiKrispin/coronavirus-csv. The raw data was then preprocessed to show cumulative counts for each row.\n",
    "\n",
    "## Comparison with John Hopkins Dashboard\n",
    "As you generate your visualizations, use the [John Hopkins World Map](https://coronavirus.jhu.edu/map.html) to compare your plots with the plots displayed on the John Hopkins dashboard. The numbers won't line up exactly but the general trends should look pretty similar."
   ]
  },
  {
   "cell_type": "markdown",
   "metadata": {},
   "source": [
    "# I. Load Data\n",
    "Run the following cells to download the data from GitHub. We'll then do some preprocessing to show the cumulative counts for each."
   ]
  },
  {
   "cell_type": "code",
   "execution_count": null,
   "metadata": {},
   "outputs": [],
   "source": [
    "raw_df = pd.read_csv(\"https://raw.githubusercontent.com/RamiKrispin/coronavirus/master/csv/coronavirus.csv\")"
   ]
  },
  {
   "cell_type": "code",
   "execution_count": null,
   "metadata": {},
   "outputs": [],
   "source": [
    "raw_df.head()"
   ]
  },
  {
   "cell_type": "code",
   "execution_count": null,
   "metadata": {},
   "outputs": [],
   "source": [
    "def preprocess_covid_data(df):\n",
    "    \"\"\"Helper function to transform a DataFrame of raw counts of COVID-19 \n",
    "    to display cumulative counts and be grouped by country and date.\"\"\"\n",
    "    grouped = df.groupby([\"country\", \"date\", \"type\"])\n",
    "    pivot = pd.pivot_table(df, index=[\"country\", \"date\"], columns=[\"type\"],\n",
    "                       values=\"cases\",\n",
    "                       aggfunc=sum,\n",
    "                      fill_value=0)\n",
    "    \n",
    "    pivot = pivot.reset_index().set_index(\"country\", drop=True)\n",
    "    \n",
    "    country_grouped = pivot.groupby([\"country\"])\n",
    "    for col in [\"confirmed\", \"death\", \"recovered\"]:\n",
    "        pivot[col] = country_grouped[col].transform(pd.Series.cumsum)\n",
    "    return pivot.reset_index()"
   ]
  },
  {
   "cell_type": "code",
   "execution_count": null,
   "metadata": {},
   "outputs": [],
   "source": [
    "df = preprocess_covid_data(raw_df)"
   ]
  },
  {
   "cell_type": "code",
   "execution_count": null,
   "metadata": {},
   "outputs": [],
   "source": [
    "df"
   ]
  },
  {
   "cell_type": "markdown",
   "metadata": {},
   "source": [
    "## Explanation of Columns\n",
    "This preprocessed dataset contains data representing the **cumulative counts** of COVID-19 confirmed cases, deaths, and recoveries by country and data. **Cumulative** means that it's a rolling count: If there is one case reported on Monday and two new cases reported on Tuesday, the count of **\"confirmed\"** cases on Tuesday will be **3**."
   ]
  },
  {
   "cell_type": "code",
   "execution_count": null,
   "metadata": {},
   "outputs": [],
   "source": [
    "# Filter by country\n",
    "df[df[\"country\"] == \"US\"]"
   ]
  },
  {
   "cell_type": "code",
   "execution_count": null,
   "metadata": {},
   "outputs": [],
   "source": [
    "# Filter by date\n",
    "df[df[\"date\"] >= \"2020-11-01\"]"
   ]
  },
  {
   "cell_type": "markdown",
   "metadata": {},
   "source": [
    "# II. Total Worldwide Growth\n",
    "\n",
    "Let's first calculate the count of cases at a global level. Because there is a separate row in the DataFrame for each country, we'll first need to aggregate by date.\n",
    "\n",
    "### TODO\n",
    "Aggregate the case counts by grouping your dataframe by **\"date\"** and aggregating using the `sum()` method."
   ]
  },
  {
   "cell_type": "code",
   "execution_count": null,
   "metadata": {},
   "outputs": [],
   "source": [
    "global_counts = df.____(____).sum()"
   ]
  },
  {
   "cell_type": "code",
   "execution_count": null,
   "metadata": {},
   "outputs": [],
   "source": [
    "global_counts"
   ]
  },
  {
   "cell_type": "markdown",
   "metadata": {},
   "source": [
    "### TODO\n",
    "Now that you've aggregated to get global counts, generate a lineplot of all 3 columns: **confirmed** cases, **deaths**, and **recoveries**."
   ]
  },
  {
   "cell_type": "code",
   "execution_count": null,
   "metadata": {},
   "outputs": [],
   "source": [
    "global_counts.____()"
   ]
  },
  {
   "cell_type": "markdown",
   "metadata": {},
   "source": [
    "### TODO\n",
    "Get the latest count of global cases. Plot the 3 columns as a **bar graph**."
   ]
  },
  {
   "cell_type": "code",
   "execution_count": null,
   "metadata": {},
   "outputs": [],
   "source": [
    "last_date = ____.iloc[-1]\n",
    "last_date.____(kind=____)"
   ]
  },
  {
   "cell_type": "code",
   "execution_count": null,
   "metadata": {},
   "outputs": [],
   "source": [
    "last_date"
   ]
  },
  {
   "cell_type": "markdown",
   "metadata": {},
   "source": [
    "# III. Countries with Highest Counts\n",
    "Now, let's identify the countries with the highest confirmed counts of COVID-19. \n",
    "### TODO\n",
    "- First, group your data by country\n",
    "- Then, calculate the max value of **\"confirmed\"** to get the latest (and largest) cumulative counts of cases. Call the resulting object `country_counts`\n",
    "- Finally, sort the dataframe in descending order to get the countries with the highest counts\n",
    "- Call `country_counts.head(10)` to show the first 10 rows, which have the countries with the most confirmed cases"
   ]
  },
  {
   "cell_type": "code",
   "execution_count": null,
   "metadata": {},
   "outputs": [],
   "source": [
    "country_counts = df.____(\"country\")[____].max()"
   ]
  },
  {
   "cell_type": "code",
   "execution_count": null,
   "metadata": {},
   "outputs": [],
   "source": [
    "country_counts = country_counts.sort_values(ascending=False)"
   ]
  },
  {
   "cell_type": "code",
   "execution_count": null,
   "metadata": {},
   "outputs": [],
   "source": [
    "country_counts.head(10)"
   ]
  },
  {
   "cell_type": "markdown",
   "metadata": {},
   "source": [
    "### TODO\n",
    "Plot the first 10 rows of `country_counts` as a bar graph."
   ]
  },
  {
   "cell_type": "code",
   "execution_count": null,
   "metadata": {},
   "outputs": [],
   "source": [
    "country_counts.head(10).____(____=\"bar\")"
   ]
  },
  {
   "cell_type": "markdown",
   "metadata": {},
   "source": [
    "Next, let's compare how COVID-19 has spread in each of these 10 countries. We'll filter our dataset to only rows containing data for one of the top 10 countries. Then we'll plot each of those country time series on the same plot to compare what the disease has looked like in each country since the beginning of the disease outbreak."
   ]
  },
  {
   "cell_type": "markdown",
   "metadata": {},
   "source": [
    "### TODO\n",
    "Define a list of country names called `top_countries` which contain the names of the first 10 rows of `country_counts`. You can get the country names through the `country_counts.index` attribute:"
   ]
  },
  {
   "cell_type": "code",
   "execution_count": null,
   "metadata": {},
   "outputs": [],
   "source": [
    "top_countries = ____.head(10).index"
   ]
  },
  {
   "cell_type": "code",
   "execution_count": null,
   "metadata": {},
   "outputs": [],
   "source": [
    "top_countries"
   ]
  },
  {
   "cell_type": "markdown",
   "metadata": {},
   "source": [
    "Now, use boolean indexing to filter `df` to rows where the country is in one of the top countries. You can do this by saying that the country column is in one of the top countries using the `isin()` method:"
   ]
  },
  {
   "cell_type": "code",
   "execution_count": null,
   "metadata": {},
   "outputs": [],
   "source": [
    "top_10 = df[df[____].isin(____)]"
   ]
  },
  {
   "cell_type": "code",
   "execution_count": null,
   "metadata": {},
   "outputs": [],
   "source": [
    "top_10[\"country\"].value_counts()"
   ]
  },
  {
   "cell_type": "markdown",
   "metadata": {},
   "source": [
    "Finally, use seaborn's `lineplot` function to plot the 10 countries over time as a line graph. The `x` attribute should be the **\"date\"** and the `y` attribute should be **\"confirmed\"**. To create a separate, different colored line for each nation, we'll specify **\"country\"** as the `hue` argument."
   ]
  },
  {
   "cell_type": "code",
   "execution_count": null,
   "metadata": {},
   "outputs": [],
   "source": [
    "fig, ax = plt.subplots(figsize=(12, 8))\n",
    "sns.____(x=____, ____=\"confirmed\", ____=____, data=top_10)\n",
    "ax.set_xticks([]);"
   ]
  },
  {
   "cell_type": "code",
   "execution_count": null,
   "metadata": {},
   "outputs": [],
   "source": []
  },
  {
   "cell_type": "markdown",
   "metadata": {},
   "source": [
    "# IV. Compare China and the US\n",
    "The outbreak began in China but quickly spread to the rest of the world. As we saw earlier, the United States is now the country with the highest number of confirmed counts. Let's compare these two countries.\n",
    "\n",
    "### TODO\n",
    "Create a dataframe called `china` containing only rows pertaining to **\"China\"**."
   ]
  },
  {
   "cell_type": "code",
   "execution_count": null,
   "metadata": {},
   "outputs": [],
   "source": [
    "china = df[df[\"country\"] == ____].reset_index(drop=True)"
   ]
  },
  {
   "cell_type": "code",
   "execution_count": null,
   "metadata": {},
   "outputs": [],
   "source": [
    "china.head()"
   ]
  },
  {
   "cell_type": "markdown",
   "metadata": {},
   "source": [
    "### TODO\n",
    "Create another dataframe called `us`. Because the disease didn't come to the US until later in the year, we'll also limit the results to rows with a count greater than 0."
   ]
  },
  {
   "cell_type": "code",
   "execution_count": null,
   "metadata": {},
   "outputs": [],
   "source": [
    "us = df[(df[____] == ____)].reset_index(drop=True)"
   ]
  },
  {
   "cell_type": "markdown",
   "metadata": {},
   "source": [
    "### TODO\n",
    "Now, plot the two countries' time series on the same plot. Provide the appropriate label names for the legends to show the country names on the plot."
   ]
  },
  {
   "cell_type": "code",
   "execution_count": null,
   "metadata": {},
   "outputs": [],
   "source": [
    "fig, ax = plt.subplots()\n",
    "china[\"confirmed\"].____(ax=ax, label=____)\n",
    "____[____].plot(ax=ax, label=\"United States\")\n",
    "ax.set_xlabel(\"Number of Days since First Case\")\n",
    "ax.set_ylabel(\"Cumulative Count of Confirmed Cases\")\n",
    "ax.legend()"
   ]
  },
  {
   "cell_type": "markdown",
   "metadata": {},
   "source": [
    "# V. Forecasting with Facebook Prophet (opt.)\n",
    "So far, we've been analyzing past **time series** data of measured COVID-19 case counts. However, what if we want to predict what will happen in the future? This is important for understanding the growth of a disease and coming up with effective interventions to curb the spread or minimize deaths.\n",
    "\n",
    "Predicting values of time series data in the future is called **forecasting**. If you'd like to learn more about forecasting, some good good resource are the DataCamp course [Forecasting in R](https://learn.datacamp.com/courses/forecasting-in-r) and the corresponding textbook [Forecasting: Principles and Practice](https://otexts.com/fpp2/). Forecasting is used in many industries in addition to epidemiology, including finance, supply distribution management, and economics.\n",
    "\n",
    "We will use a package called [Facebook Prophet](https://facebook.github.io/prophet/) for forecasting COVID-19 counts in the US for the next two weeks. Prophet is an easy-to-use package for training forecasting models and visualizing the results.\n",
    "\n",
    "## Installing Prophet\n",
    "Installing Prophet might be a little complex depending on your machine. First try typing this in a Terminal/Anaconda Prompt (or uncomment the lines below):\n",
    "\n",
    "```bash\n",
    "pip install pystan\n",
    "pip install fbprophet\n",
    "pip install plotly\n",
    "```\n",
    "\n",
    "If that works without any errors, great! If you run into errors, you may need to go to the [Prophet documentation](https://facebook.github.io/prophet/docs/installation.html#python) for more detailed instructions. If you're not able to install Prophet, feel free to just follow along in the video, or reach out to me for help. "
   ]
  },
  {
   "cell_type": "code",
   "execution_count": null,
   "metadata": {},
   "outputs": [],
   "source": [
    "# !pip install pystan\n",
    "# !pip install fbprophet\n",
    "# !pip install plotly"
   ]
  },
  {
   "cell_type": "code",
   "execution_count": null,
   "metadata": {},
   "outputs": [],
   "source": [
    "from fbprophet import Prophet\n",
    "from fbprophet.plot import plot, plot_components, plot_plotly"
   ]
  },
  {
   "cell_type": "markdown",
   "metadata": {},
   "source": [
    "## Preprocessing Data\n",
    "Prophet requires data to be in a very specific format. It needs a DataFrame with two columns:\n",
    "- `ds`: The dates of the time series. In our case, these will be daily dates\n",
    "- `y`: The values we're trying to predict. In our case, these will be *new* confirmed COVID-19 counts (**not** cumulative counts like in the last exercise)\n",
    "\n",
    "Additionally, we'll filter to a single country so that our model is learning to forecast for a specific country. The helper function below will do all of this for us."
   ]
  },
  {
   "cell_type": "code",
   "execution_count": null,
   "metadata": {},
   "outputs": [],
   "source": [
    "def preprocess_covid_data_prophet(df, country=\"US\"):\n",
    "    df = df[df[\"country\"] == country]\n",
    "    df = df[df[\"type\"] == \"confirmed\"]\n",
    "    return df.rename({\"date\": \"ds\", \"cases\": \"y\"}, axis=1)[[\"ds\", \"y\"]]"
   ]
  },
  {
   "cell_type": "code",
   "execution_count": null,
   "metadata": {},
   "outputs": [],
   "source": [
    "us_prophet = preprocess_covid_data_prophet(raw_df)"
   ]
  },
  {
   "cell_type": "code",
   "execution_count": null,
   "metadata": {},
   "outputs": [],
   "source": [
    "us_prophet"
   ]
  },
  {
   "cell_type": "markdown",
   "metadata": {},
   "source": [
    "We can instantiate our model by using the `Prophet` class. We then train it by passing in our data to the `m.fit()` method."
   ]
  },
  {
   "cell_type": "code",
   "execution_count": null,
   "metadata": {},
   "outputs": [],
   "source": [
    "m = Prophet()"
   ]
  },
  {
   "cell_type": "code",
   "execution_count": null,
   "metadata": {},
   "outputs": [],
   "source": [
    "m.fit(us_prophet)"
   ]
  },
  {
   "cell_type": "markdown",
   "metadata": {},
   "source": [
    "Now that we've trained our model, let's make a forecast for the next two weeks. We'll create a new DataFrame containing dates for the next 14 days and then create a forecast by calling `m.predict()`"
   ]
  },
  {
   "cell_type": "code",
   "execution_count": null,
   "metadata": {},
   "outputs": [],
   "source": [
    "future = m.make_future_dataframe(periods=14)\n",
    "future.tail()"
   ]
  },
  {
   "cell_type": "code",
   "execution_count": null,
   "metadata": {},
   "outputs": [],
   "source": [
    "forecast = m.predict(future)"
   ]
  },
  {
   "cell_type": "markdown",
   "metadata": {},
   "source": [
    "This new DataFrame contains the following columns:\n",
    "- `ds`: The date for the next 14 days\n",
    "- `yhat`: The predicted number of new, confirmed COVID-19 cases\n",
    "- `yhat_lower`/`yhat_upper`: The lower- and upper confidence bounds for our prediction"
   ]
  },
  {
   "cell_type": "code",
   "execution_count": null,
   "metadata": {},
   "outputs": [],
   "source": [
    "forecast[['ds', 'yhat', 'yhat_lower', 'yhat_upper']].tail()"
   ]
  },
  {
   "cell_type": "markdown",
   "metadata": {},
   "source": [
    "## Visualizing our Forecast\n",
    "The easiest way to understand our model's predictions is to visualize it. We can call `m.plot()` to visualize the entire time series and future predictions to see how our model has fit to the data and what the predictions are. \n",
    "\n",
    "Here is a brief explanation of the figure below:\n",
    "- The black circles represent **actual** COVID-19 counts. This is the `y` column from `us_prophet`\n",
    "- The blue solid line represents **predicted COVID-19** counts. This is the `yhat` column from `forecast`. Note that the end of the plot has a blue, predicted line but no actual counts, since this is in the future\n",
    "- The shaded blue area around the line shows the **confidence interval** for our prediction. In other words, our model **thinks** that the number of COVID-19 cases will be at the black circle, but it could also be anywhere within the shaded blue area"
   ]
  },
  {
   "cell_type": "code",
   "execution_count": null,
   "metadata": {},
   "outputs": [],
   "source": [
    "m.plot(forecast)"
   ]
  },
  {
   "cell_type": "markdown",
   "metadata": {},
   "source": [
    "If you have plotly installed, you can also install an interactive version of this plot, which is useful for drilling down on specific time periods."
   ]
  },
  {
   "cell_type": "code",
   "execution_count": null,
   "metadata": {},
   "outputs": [],
   "source": [
    "plot_plotly(m, forecast)"
   ]
  },
  {
   "cell_type": "code",
   "execution_count": null,
   "metadata": {},
   "outputs": [],
   "source": []
  },
  {
   "cell_type": "markdown",
   "metadata": {},
   "source": [
    "# Discussion\n",
    "- Look at the time series forecast above. How well does the model do at predicting COVID-19 cases?\n",
    "- According to your forecast, what will the next 2 weeks look like?\n",
    "- Are there any times where you model is really off? What do you think caused it to be incorrect?\n",
    "- How could an epidemiologist or public health official use this data?"
   ]
  },
  {
   "cell_type": "markdown",
   "metadata": {},
   "source": [
    "# Next Steps\n",
    "In this notebook, we analyzed the count of international cases of COVID-19. This dataset was a **structured** dataset, using a table of discrete values. Next, we'll look at how to use unstructured clinical text for COVID-19 surveillance.\n",
    "\n",
    "[02-covid-nlp](02-covid-nlp.ipynb)"
   ]
  },
  {
   "cell_type": "code",
   "execution_count": null,
   "metadata": {},
   "outputs": [],
   "source": []
  }
 ],
 "metadata": {
  "kernelspec": {
   "display_name": "Python 3",
   "language": "python",
   "name": "python3"
  },
  "language_info": {
   "codemirror_mode": {
    "name": "ipython",
    "version": 3
   },
   "file_extension": ".py",
   "mimetype": "text/x-python",
   "name": "python",
   "nbconvert_exporter": "python",
   "pygments_lexer": "ipython3",
   "version": "3.8.5"
  }
 },
 "nbformat": 4,
 "nbformat_minor": 2
}
