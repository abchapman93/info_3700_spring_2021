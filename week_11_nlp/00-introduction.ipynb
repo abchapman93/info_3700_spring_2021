{
 "cells": [
  {
   "cell_type": "markdown",
   "metadata": {},
   "source": [
    "# Overview\n",
    "To setup for this week's coding activities, we'll need to do two things:\n",
    "- Install the Python packages [**spaCy**](https://spacy.io/) and [**medspacy**](https://github.com/medspacy/medspacy)\n",
    "- Download two trained NLP models\n",
    "\n",
    "Open up your terminal (**Anaconda Prompt** for Windows, **Terminal** for Mac) and let's get started!\n",
    "\n",
    "\n",
    "### Python packages\n",
    "First, run this command which will run both of the libraries we're using today:\n",
    "\n",
    "```bash\n",
    "pip install medspacy\n",
    "```\n",
    "\n",
    "### Trained NLP models\n",
    "Next, download the NLP models which we will be using:\n",
    "```bash\n",
    "python -m spacy download en_core_web_sm\n",
    "\n",
    "pip install https://github.com/abchapman93/spacy_models/raw/master/releases/en_info_3700_i2b2_2012-0.1.0/dist/en_info_3700_i2b2_2012-0.1.0.tar.gz\n",
    "```\n",
    "\n"
   ]
  },
  {
   "cell_type": "code",
   "execution_count": 1,
   "metadata": {},
   "outputs": [
    {
     "name": "stdout",
     "output_type": "stream",
     "text": [
      "Requirement already satisfied: medspacy==0.1.0.2 in /Users/alecchapman/opt/anaconda3/envs/uvu38/lib/python3.8/site-packages (0.1.0.2)\n",
      "Requirement already satisfied: jsonschema in /Users/alecchapman/opt/anaconda3/envs/uvu38/lib/python3.8/site-packages (from medspacy==0.1.0.2) (3.2.0)\n",
      "Requirement already satisfied: medspacy-quickumls>=2.4.1 in /Users/alecchapman/opt/anaconda3/envs/uvu38/lib/python3.8/site-packages (from medspacy==0.1.0.2) (2.4.1)\n",
      "Requirement already satisfied: spacy<=2.3.2,>=2.3.0 in /Users/alecchapman/opt/anaconda3/envs/uvu38/lib/python3.8/site-packages (from medspacy==0.1.0.2) (2.3.2)\n",
      "Requirement already satisfied: PyRuSH>=1.0.3.5 in /Users/alecchapman/opt/anaconda3/envs/uvu38/lib/python3.8/site-packages (from medspacy==0.1.0.2) (1.0.3.5)\n",
      "Requirement already satisfied: attrs>=17.4.0 in /Users/alecchapman/opt/anaconda3/envs/uvu38/lib/python3.8/site-packages (from jsonschema->medspacy==0.1.0.2) (20.3.0)\n",
      "Requirement already satisfied: pyrsistent>=0.14.0 in /Users/alecchapman/opt/anaconda3/envs/uvu38/lib/python3.8/site-packages (from jsonschema->medspacy==0.1.0.2) (0.17.3)\n",
      "Requirement already satisfied: setuptools in /Users/alecchapman/opt/anaconda3/envs/uvu38/lib/python3.8/site-packages (from jsonschema->medspacy==0.1.0.2) (50.3.1.post20201107)\n",
      "Requirement already satisfied: six>=1.11.0 in /Users/alecchapman/opt/anaconda3/envs/uvu38/lib/python3.8/site-packages (from jsonschema->medspacy==0.1.0.2) (1.15.0)\n",
      "Requirement already satisfied: numpy>=1.8.2 in /Users/alecchapman/opt/anaconda3/envs/uvu38/lib/python3.8/site-packages (from medspacy-quickumls>=2.4.1->medspacy==0.1.0.2) (1.19.4)\n",
      "Requirement already satisfied: nltk>=3.3 in /Users/alecchapman/opt/anaconda3/envs/uvu38/lib/python3.8/site-packages (from medspacy-quickumls>=2.4.1->medspacy==0.1.0.2) (3.5)\n",
      "Requirement already satisfied: leveldb>=0.193 in /Users/alecchapman/opt/anaconda3/envs/uvu38/lib/python3.8/site-packages (from medspacy-quickumls>=2.4.1->medspacy==0.1.0.2) (0.201)\n",
      "Requirement already satisfied: unqlite>=0.8.1 in /Users/alecchapman/opt/anaconda3/envs/uvu38/lib/python3.8/site-packages (from medspacy-quickumls>=2.4.1->medspacy==0.1.0.2) (0.9.2)\n",
      "Requirement already satisfied: unidecode>=0.4.19 in /Users/alecchapman/opt/anaconda3/envs/uvu38/lib/python3.8/site-packages (from medspacy-quickumls>=2.4.1->medspacy==0.1.0.2) (1.2.0)\n",
      "Requirement already satisfied: quickumls-simstring>=1.1.5r1 in /Users/alecchapman/opt/anaconda3/envs/uvu38/lib/python3.8/site-packages (from medspacy-quickumls>=2.4.1->medspacy==0.1.0.2) (1.1.5.post1)\n",
      "Requirement already satisfied: requests<3.0.0,>=2.13.0 in /Users/alecchapman/opt/anaconda3/envs/uvu38/lib/python3.8/site-packages (from spacy<=2.3.2,>=2.3.0->medspacy==0.1.0.2) (2.24.0)\n",
      "Requirement already satisfied: preshed<3.1.0,>=3.0.2 in /Users/alecchapman/opt/anaconda3/envs/uvu38/lib/python3.8/site-packages (from spacy<=2.3.2,>=2.3.0->medspacy==0.1.0.2) (3.0.4)\n",
      "Requirement already satisfied: cymem<2.1.0,>=2.0.2 in /Users/alecchapman/opt/anaconda3/envs/uvu38/lib/python3.8/site-packages (from spacy<=2.3.2,>=2.3.0->medspacy==0.1.0.2) (2.0.4)\n",
      "Requirement already satisfied: thinc==7.4.1 in /Users/alecchapman/opt/anaconda3/envs/uvu38/lib/python3.8/site-packages (from spacy<=2.3.2,>=2.3.0->medspacy==0.1.0.2) (7.4.1)\n",
      "Requirement already satisfied: wasabi<1.1.0,>=0.4.0 in /Users/alecchapman/opt/anaconda3/envs/uvu38/lib/python3.8/site-packages (from spacy<=2.3.2,>=2.3.0->medspacy==0.1.0.2) (0.8.0)\n",
      "Requirement already satisfied: tqdm<5.0.0,>=4.38.0 in /Users/alecchapman/opt/anaconda3/envs/uvu38/lib/python3.8/site-packages (from spacy<=2.3.2,>=2.3.0->medspacy==0.1.0.2) (4.51.0)\n",
      "Requirement already satisfied: catalogue<1.1.0,>=0.0.7 in /Users/alecchapman/opt/anaconda3/envs/uvu38/lib/python3.8/site-packages (from spacy<=2.3.2,>=2.3.0->medspacy==0.1.0.2) (1.0.0)\n",
      "Requirement already satisfied: plac<1.2.0,>=0.9.6 in /Users/alecchapman/opt/anaconda3/envs/uvu38/lib/python3.8/site-packages (from spacy<=2.3.2,>=2.3.0->medspacy==0.1.0.2) (1.1.3)\n",
      "Requirement already satisfied: blis<0.5.0,>=0.4.0 in /Users/alecchapman/opt/anaconda3/envs/uvu38/lib/python3.8/site-packages (from spacy<=2.3.2,>=2.3.0->medspacy==0.1.0.2) (0.4.1)\n",
      "Requirement already satisfied: srsly<1.1.0,>=1.0.2 in /Users/alecchapman/opt/anaconda3/envs/uvu38/lib/python3.8/site-packages (from spacy<=2.3.2,>=2.3.0->medspacy==0.1.0.2) (1.0.3)\n",
      "Requirement already satisfied: murmurhash<1.1.0,>=0.28.0 in /Users/alecchapman/opt/anaconda3/envs/uvu38/lib/python3.8/site-packages (from spacy<=2.3.2,>=2.3.0->medspacy==0.1.0.2) (1.0.4)\n",
      "Requirement already satisfied: PyFastNER>=1.0.8b1 in /Users/alecchapman/opt/anaconda3/envs/uvu38/lib/python3.8/site-packages (from PyRuSH>=1.0.3.5->medspacy==0.1.0.2) (1.0.8b9)\n",
      "Requirement already satisfied: click in /Users/alecchapman/opt/anaconda3/envs/uvu38/lib/python3.8/site-packages (from nltk>=3.3->medspacy-quickumls>=2.4.1->medspacy==0.1.0.2) (7.1.2)\n",
      "Requirement already satisfied: regex in /Users/alecchapman/opt/anaconda3/envs/uvu38/lib/python3.8/site-packages (from nltk>=3.3->medspacy-quickumls>=2.4.1->medspacy==0.1.0.2) (2020.11.13)\n",
      "Requirement already satisfied: joblib in /Users/alecchapman/opt/anaconda3/envs/uvu38/lib/python3.8/site-packages (from nltk>=3.3->medspacy-quickumls>=2.4.1->medspacy==0.1.0.2) (1.0.0)\n",
      "Requirement already satisfied: Cython in /Users/alecchapman/opt/anaconda3/envs/uvu38/lib/python3.8/site-packages (from unqlite>=0.8.1->medspacy-quickumls>=2.4.1->medspacy==0.1.0.2) (0.29.21)\n",
      "Requirement already satisfied: chardet<4,>=3.0.2 in /Users/alecchapman/opt/anaconda3/envs/uvu38/lib/python3.8/site-packages (from requests<3.0.0,>=2.13.0->spacy<=2.3.2,>=2.3.0->medspacy==0.1.0.2) (3.0.4)\n",
      "Requirement already satisfied: idna<3,>=2.5 in /Users/alecchapman/opt/anaconda3/envs/uvu38/lib/python3.8/site-packages (from requests<3.0.0,>=2.13.0->spacy<=2.3.2,>=2.3.0->medspacy==0.1.0.2) (2.10)\n",
      "Requirement already satisfied: urllib3!=1.25.0,!=1.25.1,<1.26,>=1.21.1 in /Users/alecchapman/opt/anaconda3/envs/uvu38/lib/python3.8/site-packages (from requests<3.0.0,>=2.13.0->spacy<=2.3.2,>=2.3.0->medspacy==0.1.0.2) (1.25.11)\n",
      "Requirement already satisfied: certifi>=2017.4.17 in /Users/alecchapman/opt/anaconda3/envs/uvu38/lib/python3.8/site-packages (from requests<3.0.0,>=2.13.0->spacy<=2.3.2,>=2.3.0->medspacy==0.1.0.2) (2020.6.20)\n",
      "Requirement already satisfied: quicksectx in /Users/alecchapman/opt/anaconda3/envs/uvu38/lib/python3.8/site-packages (from PyFastNER>=1.0.8b1->PyRuSH>=1.0.3.5->medspacy==0.1.0.2) (0.3.0)\n"
     ]
    }
   ],
   "source": [
    "!pip install medspacy==0.1.0.2"
   ]
  },
  {
   "cell_type": "code",
   "execution_count": null,
   "metadata": {},
   "outputs": [],
   "source": [
    "!python -m spacy download en_core_web_sm"
   ]
  },
  {
   "cell_type": "code",
   "execution_count": null,
   "metadata": {},
   "outputs": [],
   "source": [
    "!pip install https://github.com/abchapman93/spacy_models/raw/master/releases/en_info_3700_i2b2_2012-0.1.0/dist/en_info_3700_i2b2_2012-0.1.0.tar.gz"
   ]
  },
  {
   "cell_type": "code",
   "execution_count": null,
   "metadata": {},
   "outputs": [],
   "source": []
  },
  {
   "cell_type": "markdown",
   "metadata": {},
   "source": [
    "## Test if it worked\n",
    "Once you've run the commands above, first restart your Jupyter kernel by finding the menu option at the top of the page:\n",
    "\n",
    "---\n",
    "\"Kernel\" >> \"Restart\"\n",
    "\n",
    "---\n",
    "\n",
    "Then run the following cells to make sure they run sucessfully:"
   ]
  },
  {
   "cell_type": "code",
   "execution_count": null,
   "metadata": {},
   "outputs": [],
   "source": [
    "import spacy\n",
    "spacy.load(\"en_core_web_sm\")"
   ]
  },
  {
   "cell_type": "code",
   "execution_count": null,
   "metadata": {},
   "outputs": [],
   "source": [
    "import medspacy\n",
    "medspacy.load(\"en_info_3700_i2b2_2012\")"
   ]
  },
  {
   "cell_type": "markdown",
   "metadata": {},
   "source": [
    "# Next Steps\n",
    "Now that we have the necessary libraries and models installed, we can start processing text. In the next notebook, we'll get a quick introduction to spaCy, one of the most popular libraries for NLP in Python.\n",
    "\n",
    "[01-intro_spacy.ipynb](01-intro_spacy.ipynb)"
   ]
  },
  {
   "cell_type": "code",
   "execution_count": null,
   "metadata": {},
   "outputs": [],
   "source": []
  }
 ],
 "metadata": {
  "kernelspec": {
   "display_name": "Python 3",
   "language": "python",
   "name": "python3"
  },
  "language_info": {
   "codemirror_mode": {
    "name": "ipython",
    "version": 3
   },
   "file_extension": ".py",
   "mimetype": "text/x-python",
   "name": "python",
   "nbconvert_exporter": "python",
   "pygments_lexer": "ipython3",
   "version": "3.8.3"
  }
 },
 "nbformat": 4,
 "nbformat_minor": 4
}
