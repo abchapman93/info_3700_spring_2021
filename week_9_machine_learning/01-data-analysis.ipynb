{
 "cells": [
  {
   "cell_type": "markdown",
   "metadata": {},
   "source": [
    "# Overview\n",
    "One of the most important steps in a machine learning project is exploring the dataset and gaining an understanding of what the data and task are. In this notebook, we will explore our dataset and analyze the variables contained in our dataset. See the Kaggle website for an explanation of this dataset and where it comes from: [Pima Indians Diabetes Dataset](https://www.kaggle.com/uciml/pima-indians-diabetes-database/home).\n"
   ]
  },
  {
   "cell_type": "code",
   "execution_count": null,
   "metadata": {},
   "outputs": [],
   "source": [
    "import sklearn\n",
    "import pandas as pd\n",
    "import numpy as np\n",
    "\n",
    "import matplotlib.pyplot as plt\n",
    "from matplotlib import rcParams\n",
    "%matplotlib inline\n",
    "\n",
    "import seaborn as sns\n",
    "sns.set()"
   ]
  },
  {
   "cell_type": "code",
   "execution_count": null,
   "metadata": {},
   "outputs": [],
   "source": [
    "df = pd.read_csv(\"diabetes.csv\")\n",
    "df.head()"
   ]
  },
  {
   "cell_type": "markdown",
   "metadata": {},
   "source": [
    "# Outcome variable\n",
    "The **outcome variable** is the value that we want our classifier to learn. This is also known as the **dependent variable**, or in machine learning terminology the **label**. In this case, the outcome variable is whether or not a patient has diabetes, and it is contained in the \"**Outcome**\" column. **\"1\"** means that the patient has diabetes (positive class), while a **\"0\"** means that the patient does not have diabetes (negative class).\n",
    "\n",
    "### TODO\n",
    "Get the count of patients with and without diabetes in the **\"Outcome\"** column. Then plot it as a barplot."
   ]
  },
  {
   "cell_type": "code",
   "execution_count": null,
   "metadata": {},
   "outputs": [],
   "source": [
    "df.____(\"Outcome\").____()"
   ]
  },
  {
   "cell_type": "code",
   "execution_count": null,
   "metadata": {},
   "outputs": [],
   "source": [
    "df.____(\"Outcome\").____().plot.____()"
   ]
  },
  {
   "cell_type": "markdown",
   "metadata": {},
   "source": [
    "# Independent Variables\n",
    "The **independent variables** in a dataset are the other values in a dataset which can be used to predict the outcome variable. These are called **features** or **predictors** in ML terminology. Later, we'll separate the features and labels. First, let's take a look at our entire dataset.\n",
    "\n",
    "\n",
    "### TODO\n",
    "Call `df.describe()` to get a summary of a dataset. Then create a histogram for each of the columns in the dataset by calling `df.hist()`.\n",
    "\n",
    "- Take a look at the values in each column. Consider the min, max, and mean values\n",
    "- Do the values in the dataset make sense with the real-world values they represent?\n",
    "- Are there any outstanding questions you have? Does anything not make sense?"
   ]
  },
  {
   "cell_type": "code",
   "execution_count": null,
   "metadata": {},
   "outputs": [],
   "source": [
    "__.____()"
   ]
  },
  {
   "cell_type": "code",
   "execution_count": null,
   "metadata": {},
   "outputs": [],
   "source": [
    "len(df)"
   ]
  },
  {
   "cell_type": "code",
   "execution_count": null,
   "metadata": {},
   "outputs": [],
   "source": [
    "_ = df.____(figsize=(12, 8))"
   ]
  },
  {
   "cell_type": "markdown",
   "metadata": {},
   "source": [
    "# Correlation\n",
    "One informative analysis we can do with our dataset is to look at the **correlation** between our variables. We've dealt with this before when analyzing the relationship between *systolic* and *diastolic blood pressure* in MIMIC patients. We can then look at which variables correlate most strongly with the outcome variable - these may be the features which are informative to our classifier.\n",
    "\n",
    "### TODO\n",
    "Let's visualize the correlation of our variables. We can calculate the correlation between each of the variables by generating a **corelation matrix**, which is a table where rows and columns represent the variables and the cells contain the correlation of the two intersecting variable. We can then visualize this with a **heat map**, which uses a grid and encodes the value with the color.\n",
    "\n",
    "- Create a dataframe containing the corrlation matrix of each column with each other column by calling the `.corr()` method of the DataFrame\n",
    "- Generate a matplotlib figure. To increase the size, we'll set the `figsize` to be (12, 9)\n",
    "- Call `sns.heatmap` and pass in the correlation matrix. Other arguments for customizing the plot have already been filled in"
   ]
  },
  {
   "cell_type": "code",
   "execution_count": null,
   "metadata": {},
   "outputs": [],
   "source": [
    "# 1. Generate correlation table and heatmap\n",
    "corr = df.____()\n",
    "corr"
   ]
  },
  {
   "cell_type": "code",
   "execution_count": null,
   "metadata": {},
   "outputs": [],
   "source": [
    "# 2. Set up the matplotlib figure size\n",
    "fig, ax = plt.subplots(figsize=(__, __))\n",
    "\n",
    "# Some additional settings to make the plot prettier\n",
    "# and only show below the diagonal\n",
    "cmap = sns.diverging_palette(220, 10, as_cmap=True)\n",
    "mask = np.zeros_like(corr, dtype=np.bool)\n",
    "mask[np.triu_indices_from(mask)] = True\n",
    "\n",
    "# 3. Draw the heatmap with the correct aspect ratio\n",
    "sns.____(____, mask=mask, cmap=cmap, \n",
    "            vmax=.3, center=0,annot=True,\n",
    "            square=True, linewidths=.5, \n",
    "            cbar_kws={\"shrink\": .25})"
   ]
  },
  {
   "cell_type": "markdown",
   "metadata": {},
   "source": [
    "### Discussion\n",
    "- Explain the heat map. How does this visually represent the correlation of the dataset?\n",
    "- Looking at the plot above, which variables correlate most strongly to whether a patient has diabetes?\n",
    "- What other variables have a strong correlation with each other?\n",
    "- Do any of the correlations surprise you?"
   ]
  },
  {
   "cell_type": "markdown",
   "metadata": {},
   "source": [
    "# Deep-Dive Comparative Analysis\n",
    "Now that we know which variables are likely to be related to our outcome variable, let's do a deeper analysis comparing some of the most important variables between positive and negative patients."
   ]
  },
  {
   "cell_type": "markdown",
   "metadata": {},
   "source": [
    "### TODO\n",
    "- Using boolean indexing, separate the data into two subgroups:\n",
    "    - `neg`: Patients without diabetes\n",
    "    - `pos`: Patients with diabetes\n",
    "    "
   ]
  },
  {
   "cell_type": "code",
   "execution_count": null,
   "metadata": {},
   "outputs": [],
   "source": [
    "____ = df[df[\"Outcome\"] == __]\n",
    "neg = ____"
   ]
  },
  {
   "cell_type": "markdown",
   "metadata": {},
   "source": [
    "### TODO\n",
    "Now, pick one of the variables which you want to analyze. Pick one of the variables with a strong correlation to diabetes so we can analyze how this variable can be informative to our task. Save the column name to a variable called `varname`.\n",
    "\n",
    "Next, generate three plots:\n",
    "- A histogram of the overall distribution of the variable (not separated by group)\n",
    "- Two histograms overlaid on top of each other comparing the positive and negative patients\n",
    "- A boxplot stratified by Outcome"
   ]
  },
  {
   "cell_type": "code",
   "execution_count": null,
   "metadata": {},
   "outputs": [],
   "source": [
    "var_name = ____"
   ]
  },
  {
   "cell_type": "code",
   "execution_count": null,
   "metadata": {},
   "outputs": [],
   "source": [
    "# 1. Generate a histogram of the entire population\n",
    "sns.distplot(df[var_name])\n",
    "plt.title(\"Overall Distribution of {}\".format(var_name))"
   ]
  },
  {
   "cell_type": "code",
   "execution_count": null,
   "metadata": {},
   "outputs": [],
   "source": [
    "# 2. Create separate histograms for positive and negative patients\n",
    "ax = sns.distplot(neg[var_name],label=\"Negative\", color=\"C0\")\n",
    "sns.distplot(pos[var_name], label=\"Positive\", color=\"C1\")\n",
    "ax.legend()\n",
    "plt.title(\"Distribution of {} stratified by Outcome\".format(var_name))"
   ]
  },
  {
   "cell_type": "code",
   "execution_count": null,
   "metadata": {},
   "outputs": [],
   "source": [
    "# 3. Create a boxplot for each population\n",
    "sns.boxplot(x=\"Outcome\", y=var_name, data=df)\n",
    "plt.title(\"Boxplot of {} stratified by Outcome\".format(var_name))"
   ]
  },
  {
   "cell_type": "code",
   "execution_count": null,
   "metadata": {},
   "outputs": [],
   "source": []
  },
  {
   "cell_type": "markdown",
   "metadata": {},
   "source": [
    "# Next Steps\n",
    "Now that we have an understanding of what's in our dataset, there are a few data processing steps which we need to take care of before we can start modeling.\n",
    "\n",
    "[./02-data-prep.ipynb](./02-data-prep.ipynb)"
   ]
  },
  {
   "cell_type": "code",
   "execution_count": null,
   "metadata": {},
   "outputs": [],
   "source": []
  }
 ],
 "metadata": {
  "kernelspec": {
   "display_name": "Python 3",
   "language": "python",
   "name": "python3"
  },
  "language_info": {
   "codemirror_mode": {
    "name": "ipython",
    "version": 3
   },
   "file_extension": ".py",
   "mimetype": "text/x-python",
   "name": "python",
   "nbconvert_exporter": "python",
   "pygments_lexer": "ipython3",
   "version": "3.7.3"
  }
 },
 "nbformat": 4,
 "nbformat_minor": 2
}
