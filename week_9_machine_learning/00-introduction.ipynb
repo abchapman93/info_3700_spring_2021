{
 "cells": [
  {
   "cell_type": "markdown",
   "metadata": {},
   "source": [
    "# I. Introduction\n",
    "In this unit of the course, we will learn about **Artificial Intelligence (AI)**. We will learn about some of the ways in which AI can be applied to healthcare, discuss the benefits and risks of using these methods, and apply several AI methods to datasets using Python.\n",
    "\n",
    "The first type of AI we will learn about is **Machine Learning**. Machine learning, we feed data into algorithms which learn to recognize patterns. These patterns can then be used to make real-world decisions such as predict outcomes or group entities by similarity. The subtype of ML which we'll learn today is called **classification**.\n",
    "\n",
    "# Outline\n",
    "**Prerequisites**\n",
    "- [**DataCamp AI fundamentals**](https://www.datacamp.com/courses/ai-fundamentals), Chapters 1-2\n",
    "- [***The Digital Doctor***](https://learning.oreilly.com/library/view/the-digital-doctor/9780071849470/), Chapters 9-12\n"
   ]
  },
  {
   "cell_type": "code",
   "execution_count": 3,
   "metadata": {},
   "outputs": [],
   "source": [
    "import sklearn\n",
    "import pandas as pd\n",
    "\n",
    "import matplotlib.pyplot as plt\n",
    "%matplotlib inline\n",
    "\n",
    "import seaborn as sns\n",
    "sns.set()"
   ]
  },
  {
   "cell_type": "markdown",
   "metadata": {},
   "source": [
    "# Overview of the Task and Dataset\n",
    "We will be working with a dataset from Kaggle: [Pima Indians Diabetes Dataset](https://www.kaggle.com/uciml/pima-indians-diabetes-database/home). This dataset was originally created by the National Institute of Diabetes and Digestive and Kidney Diseases and contains data for a number of patients. Each patient is a female at least 21 years old of [Pima Indian heritage](https://en.wikipedia.org/wiki/Pima_people).\n",
    "\n",
    "This module is partly based on a final project by UVU students Sam Riddle, Alex Brown, and Chun-Shan Liu. Their original project can be found on GitHub: https://github.com/sjriddle/MachineLearning![image.png](attachment:image.png)\n",
    "\n",
    "## Scenario\n",
    "Let's say you that you are working on a **SMART on FHIR clinical decision support (CDS)** app which helps doctors make diagnostic decisions. During an encounter with a patient, your app will check if the patient appears to have **diabetes mellitus (DM)**. If so, you'll push an alert through the EHR and notify the physician that they should evaluate the patient for this condition.\n",
    "\n",
    "You have access to the patient medical record via the hospital's **EHR**. You can utilize the data found in their record to help you make a decision. In addition, you have examples of patients who are known to have diabetes and can use their records as examples for the logic of your tool.\n",
    "\n",
    "This scenario is a perfect fit for a **machine learning classification** project. In a classification task, each row of data is assigned a label and a **classifier** is trained to predict those labels. In this case, the label we're trying to predict is whether or not a patient has diabetes.\n",
    "\n",
    "# Machine Learning Process\n",
    "Every machine learning project looks different, but there are a few overall phases which these projects tend to follow:\n",
    "- Task Definition\n",
    "- Gather and Process Data\n",
    "- Data Analysis and Exploration\n",
    "- Modeling and Evaluation\n",
    "\n",
    "# Next Step\n",
    "We'll walk through each of these steps with our dataset.\n",
    "\n",
    "[01-data-analysis.ipynb](01-data-analysis.ipynb)"
   ]
  },
  {
   "cell_type": "code",
   "execution_count": null,
   "metadata": {},
   "outputs": [],
   "source": []
  }
 ],
 "metadata": {
  "kernelspec": {
   "display_name": "Python 3",
   "language": "python",
   "name": "python3"
  },
  "language_info": {
   "codemirror_mode": {
    "name": "ipython",
    "version": 3
   },
   "file_extension": ".py",
   "mimetype": "text/x-python",
   "name": "python",
   "nbconvert_exporter": "python",
   "pygments_lexer": "ipython3",
   "version": "3.7.3"
  }
 },
 "nbformat": 4,
 "nbformat_minor": 2
}
