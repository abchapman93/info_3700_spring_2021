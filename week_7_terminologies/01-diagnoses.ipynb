{
 "cells": [
  {
   "cell_type": "code",
   "execution_count": null,
   "metadata": {},
   "outputs": [],
   "source": [
    "import pandas as pd\n",
    "import pymysql\n",
    "import getpass"
   ]
  },
  {
   "cell_type": "code",
   "execution_count": null,
   "metadata": {},
   "outputs": [],
   "source": [
    "pd.set_option(\"max_colwidth\", 100)"
   ]
  },
  {
   "cell_type": "code",
   "execution_count": null,
   "metadata": {},
   "outputs": [],
   "source": [
    "import matplotlib.pyplot as plt\n",
    "%matplotlib inline\n",
    "\n",
    "import seaborn as sns\n",
    "sns.set()"
   ]
  },
  {
   "cell_type": "code",
   "execution_count": null,
   "metadata": {},
   "outputs": [],
   "source": [
    "# Let's connect to our database\n",
    "username = \"\" # Replace with your MIMIC username\n",
    "conn = pymysql.connect(host=\"35.233.174.193\",port=3306,\n",
    "                       user=username,\n",
    "                       passwd=getpass.getpass(\n",
    "                           \"Enter password for MIMIC2 database\"\n",
    "                       ),\n",
    "                       db='mimic2')"
   ]
  },
  {
   "cell_type": "markdown",
   "metadata": {},
   "source": [
    "# Diagnoses\n",
    "The table `icd9` contains the conditions which patients are assigned diagnoses with. ICD-9 codes are a standardized terminology where each code represents a very specific disease. ICD-9 has been replaced with ICD-10 coding, but historical data like MIMIC still contains ICD-9. "
   ]
  },
  {
   "cell_type": "code",
   "execution_count": null,
   "metadata": {},
   "outputs": [],
   "source": [
    "query = \"\"\"\n",
    "SELECT * FROM icd9\n",
    "LIMIT 10;\n",
    "\"\"\"\n",
    "df = pd.read_sql(query, conn)\n",
    "df.head(10)"
   ]
  },
  {
   "cell_type": "markdown",
   "metadata": {},
   "source": [
    "### TODO\n",
    "Find all **unique** ICD-9 codes and descriptions which contain the word **\"diabetes\"**. Use the `LIKE %...%` syntax in SQL."
   ]
  },
  {
   "cell_type": "code",
   "execution_count": null,
   "metadata": {},
   "outputs": [],
   "source": [
    "query = \"\"\"\n",
    "SELECT ____ code, description\n",
    "FROM ____\n",
    "WHERE ____ ____ ____\n",
    "ORDER BY code;\n",
    "\"\"\"\n",
    "diabetes = pd.read_sql(query, conn)"
   ]
  },
  {
   "cell_type": "code",
   "execution_count": null,
   "metadata": {},
   "outputs": [],
   "source": [
    "diabetes"
   ]
  },
  {
   "cell_type": "code",
   "execution_count": null,
   "metadata": {},
   "outputs": [],
   "source": []
  },
  {
   "cell_type": "markdown",
   "metadata": {},
   "source": [
    "## ICD hierarchy\n",
    "ICD codes are organizaed hierarchically. Codes started with the same characters are going to have similar meanings. \n",
    "\n",
    "### TODO\n",
    "1. Add a column to the DataFrame `diabetes` which contains the first 3 letters of the ICD-9 code\n",
    "2. Then get the count of the first three characters and their counts\n",
    "3. Finally, subset the dataframe using boolean indexing to get 5 smaller dataframes, where each contains codes starting with the same 3 letters. Compare and contrast the codes in each group"
   ]
  },
  {
   "cell_type": "markdown",
   "metadata": {},
   "source": [
    "**1. Add a column which contains the first 3 letters of the ICD-9 code**<br>\n",
    "To get the first 3 letters of each row, write a function which takes an ICD-9 code and returns the first three characters. Then use the `diabetes.apply` method to run this function on every row."
   ]
  },
  {
   "cell_type": "code",
   "execution_count": null,
   "metadata": {},
   "outputs": [],
   "source": [
    "def ____(icd9):\n",
    "    return ____"
   ]
  },
  {
   "cell_type": "code",
   "execution_count": null,
   "metadata": {},
   "outputs": [],
   "source": [
    "diabetes[\"first_3\"] = diabetes[\"code\"].apply(____)"
   ]
  },
  {
   "cell_type": "markdown",
   "metadata": {},
   "source": [
    "#### Bonus\n",
    "How would would you do this with a lambda function?"
   ]
  },
  {
   "cell_type": "code",
   "execution_count": null,
   "metadata": {},
   "outputs": [],
   "source": [
    "diabetes[\"first_3\"] = diabetes[\"code\"].apply(lambda __: ____)"
   ]
  },
  {
   "cell_type": "markdown",
   "metadata": {},
   "source": [
    "#### 2. Get the counts of the first three characters"
   ]
  },
  {
   "cell_type": "code",
   "execution_count": null,
   "metadata": {},
   "outputs": [],
   "source": [
    "diabetes.____.____"
   ]
  },
  {
   "cell_type": "code",
   "execution_count": null,
   "metadata": {},
   "outputs": [],
   "source": [
    "diabetes.head()"
   ]
  },
  {
   "cell_type": "markdown",
   "metadata": {},
   "source": [
    "#### 3. Subset the dataframe to only look at codes which start with the most common first 3 characters"
   ]
  },
  {
   "cell_type": "code",
   "execution_count": null,
   "metadata": {
    "scrolled": true
   },
   "outputs": [],
   "source": [
    "sub_df = diabetes[diabetes[____] == ____]\n",
    "____.head()"
   ]
  },
  {
   "cell_type": "code",
   "execution_count": null,
   "metadata": {},
   "outputs": [],
   "source": []
  },
  {
   "cell_type": "code",
   "execution_count": null,
   "metadata": {},
   "outputs": [],
   "source": []
  },
  {
   "cell_type": "code",
   "execution_count": null,
   "metadata": {},
   "outputs": [],
   "source": []
  },
  {
   "cell_type": "code",
   "execution_count": null,
   "metadata": {},
   "outputs": [],
   "source": []
  },
  {
   "cell_type": "markdown",
   "metadata": {},
   "source": [
    "# Patient diagnoses\n",
    "Just like with labs or vitals, we can either analyze data from a **population** level or a **patient** level. Let's write some queries to do both.\n",
    "\n",
    "\n",
    "### TODO\n",
    "Let's look at the diagnoses for a specific patient. Write a query below to return the ICD-9 code and description for patient **286**."
   ]
  },
  {
   "cell_type": "code",
   "execution_count": null,
   "metadata": {
    "scrolled": true
   },
   "outputs": [],
   "source": [
    "query = \"\"\"\n",
    "SELECT * \n",
    "FROM icd9\n",
    "WHERE ____ = ____;\n",
    "\"\"\"\n",
    "df = pd.read_sql(query, conn)\n",
    "df"
   ]
  },
  {
   "cell_type": "markdown",
   "metadata": {},
   "source": [
    "## Most common diagnoses\n",
    "Next, let's look not just at a single patient but the entire database. Let's write a query which will count how many times an ICD-9 code in MIMIC. We'll order the results by the count so that we can so the most common codes and compare them against the least common.\n",
    "\n",
    "### TODO\n",
    "Change the query below so that we group by code and description. Order by the count of codes in descending order."
   ]
  },
  {
   "cell_type": "code",
   "execution_count": null,
   "metadata": {},
   "outputs": [],
   "source": [
    "# What are the 10 most frequent diagnoses codes?\n",
    "query = \"\"\"\n",
    "SELECT \n",
    "    code,\n",
    "    description,\n",
    "    ____ AS count\n",
    "FROM icd9\n",
    "____ __ ___, ____\n",
    "ORDER BY ____ ____ ;\n",
    "\"\"\"\n",
    "code_counts = pd.read_sql(query, conn)"
   ]
  },
  {
   "cell_type": "code",
   "execution_count": null,
   "metadata": {},
   "outputs": [],
   "source": [
    "# 10 most common codes\n",
    "code_counts.head(10)"
   ]
  },
  {
   "cell_type": "code",
   "execution_count": null,
   "metadata": {},
   "outputs": [],
   "source": [
    "# 10 least common codes\n",
    "code_counts.tail(10)"
   ]
  },
  {
   "cell_type": "code",
   "execution_count": null,
   "metadata": {},
   "outputs": [],
   "source": []
  },
  {
   "cell_type": "markdown",
   "metadata": {},
   "source": [
    "### TODO\n",
    "Let's plot a barplot of the 10 most common ICD-9 codes in the database.\n",
    "\n",
    "- Create a new dataframe called `top_10_df` which contains the first 10 rows of `code_counts`\n",
    "- Store the results of the query in a variable called `top_10_df`\n",
    "- Call the `df.plot.bar` method to plot a barplot"
   ]
  },
  {
   "cell_type": "code",
   "execution_count": null,
   "metadata": {},
   "outputs": [],
   "source": [
    "top_10_df = ____"
   ]
  },
  {
   "cell_type": "code",
   "execution_count": null,
   "metadata": {},
   "outputs": [],
   "source": [
    "top_10_df.plot.bar(x=____, y=____)"
   ]
  },
  {
   "cell_type": "code",
   "execution_count": null,
   "metadata": {},
   "outputs": [],
   "source": []
  },
  {
   "cell_type": "markdown",
   "metadata": {},
   "source": [
    "## Patients with specific diagnoses\n",
    "Now let's find the patients who have these 10 codes. Let's save this list of 10 codes as a Python variable and then we will add this into our query using the `.format()` method in Python.\n",
    "\n",
    "The `format` method allows us to add a Python variable into our string. For example, in the example below, Python will print out a message using whatever values `first_name` and `last_name` have."
   ]
  },
  {
   "cell_type": "code",
   "execution_count": null,
   "metadata": {},
   "outputs": [],
   "source": [
    "first_name = \"Alec\"\n",
    "last_name = \"Chapman\"\n",
    "print(\"My name is {0} {1}.\".format(first_name, last_name))"
   ]
  },
  {
   "cell_type": "markdown",
   "metadata": {},
   "source": [
    "This makes it easier to construct strings using variables which might change or be too long to type out manually in a string."
   ]
  },
  {
   "cell_type": "markdown",
   "metadata": {},
   "source": [
    "### TODO\n",
    "- Create a tuple of the 10 codes which we got from our query above (remember how to access a column of a pandas DataFrame?)\n",
    "- Construct a query to get **unique** `subject_id`'s and ICD-9 codes\n",
    "- Using `.format()`, add a where clause to limit to rows containing one of the 10 most common ICD-9 codes"
   ]
  },
  {
   "cell_type": "code",
   "execution_count": null,
   "metadata": {},
   "outputs": [],
   "source": [
    "top_10_codes = tuple(____)\n",
    "top_10_codes"
   ]
  },
  {
   "cell_type": "code",
   "execution_count": null,
   "metadata": {},
   "outputs": [],
   "source": [
    "query = \"\"\"\n",
    "SELECT ____ \n",
    "    ____, \n",
    "    ____\n",
    "FROM icd9\n",
    "WHERE code IN ____\n",
    "\"\"\".___(____)\n",
    "print(query)"
   ]
  },
  {
   "cell_type": "code",
   "execution_count": null,
   "metadata": {},
   "outputs": [],
   "source": [
    "# Now let's run the query\n",
    "df = pd.read_sql(query, conn)\n",
    "df.head()"
   ]
  },
  {
   "cell_type": "code",
   "execution_count": null,
   "metadata": {},
   "outputs": [],
   "source": [
    "# Check that these are the same as top_10_codes\n",
    "# If they are the same, this will give an empty set\n",
    "set(df[\"code\"]).difference(set(top_10_codes))"
   ]
  },
  {
   "cell_type": "code",
   "execution_count": null,
   "metadata": {},
   "outputs": [],
   "source": []
  },
  {
   "cell_type": "markdown",
   "metadata": {},
   "source": [
    "## Comorbidities\n",
    "We're often interested in knowing about the **\"comorbidity\"** of a disease. A comorbidity is a condition which a patient has in addition to another condition. For example, if a patient has diabetes and they are also diagnosed with hypertension, then these two conditions would be comorbid. \n",
    "\n",
    "This is useful if we want to understand what conditions a population of patients might be at risk for based on the conditions they already have, or for measuring how certain diseases interact.\n",
    "\n",
    "In this exercise we will calculate how frequently the 10 most common ICD-9 codes co-occur together."
   ]
  },
  {
   "cell_type": "markdown",
   "metadata": {},
   "source": [
    "### TODO\n",
    "Find the most common conditions which patients who are diagnosed with hypertension also have. To do this, we'll have to use a **subquery** in order to first get the patients with hypertension, then get all the other codes which those patients have. With a complex query like this, it's helpful to write small pieces of the SQL first and then to put them together in a more complex statement. \n",
    "\n",
    "- Write a query to get the subject_id's of patients with **401.9, UNSPECIFIED ESSENTIAL HYPERTENSION**. Limit this to the top 10\n",
    "- Write a separate query which gets the count of ICD-9 codes and descriptions\n",
    "- Combine the two pieces into a single query using a **join**. Don't limit the number of rows to return. Give the query with subject_id's the alias `patients` and do a join with the rest of the table\n",
    "- **Question**: What type of join will restrict the final results to only rows containing subject_ids found in the `patients` subquery?"
   ]
  },
  {
   "cell_type": "markdown",
   "metadata": {},
   "source": [
    "#### 1. Write a query to get the unique id's of patients with hypertension"
   ]
  },
  {
   "cell_type": "code",
   "execution_count": null,
   "metadata": {
    "scrolled": true
   },
   "outputs": [],
   "source": [
    "htn_pats_query = \"\"\"\n",
    "SELECT ____\n",
    "    ____\n",
    "    FROM icd9\n",
    "    WHERE ____ = ____\n",
    "LIMIT 10\n",
    "\"\"\"\n",
    "htn_pats = pd.read_sql(htn_pats_query, conn)\n",
    "htn_pats"
   ]
  },
  {
   "cell_type": "markdown",
   "metadata": {},
   "source": [
    "#### 2. Write a query to get the counts of codes and descriptions (you can copy and paste from a query above)"
   ]
  },
  {
   "cell_type": "code",
   "execution_count": null,
   "metadata": {},
   "outputs": [],
   "source": [
    "other_codes_query = \"\"\"\n",
    "SELECT \n",
    "    icd9.____\n",
    "    icd9.____,\n",
    "    ____ AS 'count'\n",
    "FROM icd9\n",
    "GROUP BY ____, ____\n",
    "ORDER BY ____ desc\n",
    "LIMIT 10\n",
    "\"\"\"\n",
    "other_codes = pd.read_sql(other_codes_query, conn)\n",
    "other_codes"
   ]
  },
  {
   "cell_type": "markdown",
   "metadata": {},
   "source": [
    "#### 3. Combine the two queries using a `join` statement\n",
    "You can copy and paste parts of the two queries we just wrote. Consider where the subquery and where the main query should go."
   ]
  },
  {
   "cell_type": "code",
   "execution_count": null,
   "metadata": {},
   "outputs": [],
   "source": [
    "# Finally, combine the two queries \n",
    "query = \"\"\"\n",
    "SELECT \n",
    "    _____, \n",
    "    _____,\n",
    "    COUNT(*) AS 'count'\n",
    "FROM \n",
    "    icd9\n",
    "    _____ _____\n",
    "        /** Write the subquery here to get the subject_ids, call it `patients`*/\n",
    "        (\n",
    "        ____\n",
    "        ) AS patients \n",
    "    ON icd9.subject_id = patients.subject_id\n",
    "GROUP BY ____, ____\n",
    "ORDER BY____ desc\n",
    "LIMIT 10\n",
    "\"\"\"\n",
    "\n",
    "df = pd.read_sql(query, conn)\n",
    "df"
   ]
  },
  {
   "cell_type": "markdown",
   "metadata": {},
   "source": [
    "This is a useful query, and we may want to repeat it for other codes. Let's combine what we've done today and turn this query into a python function which takes the name of a code and a number and reurns the top comorbidities for that code.\n",
    "\n",
    "#### TODO\n",
    "Finish the function definition below. The function should take two arguments:\n",
    "- `code`: The ICD-9 code to use in the subquery\n",
    "- `count`: The number of comorbidities to return. Default 10\n",
    "\n",
    "Copy and paste the query from above into the function. Then edit it and use the Python `.format()` method to add the user's `code` and `count` arguments to the query."
   ]
  },
  {
   "cell_type": "code",
   "execution_count": null,
   "metadata": {},
   "outputs": [],
   "source": [
    "def get_comorbidities(____, ____=10):\n",
    "    query = \"\"\"\n",
    "        \n",
    "        \"\"\".format(____, ____)\n",
    "    return pd.read_sql(query, conn)"
   ]
  },
  {
   "cell_type": "markdown",
   "metadata": {},
   "source": [
    "Now, let's call this function using a few different codes and look at what conditions these patients also have."
   ]
  },
  {
   "cell_type": "code",
   "execution_count": null,
   "metadata": {},
   "outputs": [],
   "source": [
    "# Type II Diabetes\n",
    "get_comorbidities(\"250.00\", 10)"
   ]
  },
  {
   "cell_type": "code",
   "execution_count": null,
   "metadata": {
    "scrolled": true
   },
   "outputs": [],
   "source": [
    "# Pneumonia\n",
    "get_comorbidities(\"486\", 20)"
   ]
  },
  {
   "cell_type": "code",
   "execution_count": null,
   "metadata": {
    "scrolled": true
   },
   "outputs": [],
   "source": [
    "# Asthma\n",
    "get_comorbidities(\"493.90\", 5)"
   ]
  },
  {
   "cell_type": "code",
   "execution_count": null,
   "metadata": {},
   "outputs": [],
   "source": [
    "# Depression\n",
    "\"296.20\"\n",
    "get_comorbidities(\"296.20\", 5)"
   ]
  },
  {
   "cell_type": "code",
   "execution_count": null,
   "metadata": {},
   "outputs": [],
   "source": [
    "# Type II diabetes\n",
    "\"250.00\"\n",
    "get_comorbidities(\"250.00\", 15)"
   ]
  },
  {
   "cell_type": "code",
   "execution_count": null,
   "metadata": {},
   "outputs": [],
   "source": []
  }
 ],
 "metadata": {
  "kernelspec": {
   "display_name": "Python 3",
   "language": "python",
   "name": "python3"
  },
  "language_info": {
   "codemirror_mode": {
    "name": "ipython",
    "version": 3
   },
   "file_extension": ".py",
   "mimetype": "text/x-python",
   "name": "python",
   "nbconvert_exporter": "python",
   "pygments_lexer": "ipython3",
   "version": "3.8.5"
  }
 },
 "nbformat": 4,
 "nbformat_minor": 4
}
