{
 "cells": [
  {
   "cell_type": "code",
   "execution_count": null,
   "metadata": {},
   "outputs": [],
   "source": [
    "import pandas as pd\n",
    "import pymysql\n",
    "import getpass"
   ]
  },
  {
   "cell_type": "code",
   "execution_count": null,
   "metadata": {},
   "outputs": [],
   "source": [
    "import matplotlib.pyplot as plt\n",
    "%matplotlib inline\n",
    "\n",
    "import seaborn as sns\n",
    "sns.set()"
   ]
  },
  {
   "cell_type": "code",
   "execution_count": null,
   "metadata": {},
   "outputs": [],
   "source": [
    "# Let's connect to our database\n",
    "username = \"\" # Enter your username here\n",
    "conn = pymysql.connect(host=\"35.233.174.193\",port=3306,\n",
    "                       user=username,\n",
    "                       passwd=getpass.getpass(\"Enter password for MIMIC2 database\"),\n",
    "                       db='mimic2')"
   ]
  },
  {
   "cell_type": "code",
   "execution_count": null,
   "metadata": {},
   "outputs": [],
   "source": []
  },
  {
   "cell_type": "markdown",
   "metadata": {},
   "source": [
    "# Overview\n",
    "In this notebook, we'll apply some of the techniques learned in the previous notebooks to additional tables and variables in **MIMIC**. It will be useful to have the completed in-class notebooks opened as reference. "
   ]
  },
  {
   "cell_type": "markdown",
   "metadata": {},
   "source": [
    "# I. What is the distribution of ethnicities for patients?\n",
    "Use the table `demographic_detail` to analyze the distribution of ethnicities of patients.\n",
    "\n",
    "## Instructions\n",
    "1. Get the counts using either SQL or pandas\n",
    "2. Plot a bar chart of ethnicity counts\n",
    "\n",
    "**Hint:** We did something similar when analyzing patient sex in **Analyzing administrative and demographic data** in [01-admin_demographic_data.ipynb](./01-admin_demographic_data.ipynb)"
   ]
  },
  {
   "cell_type": "code",
   "execution_count": null,
   "metadata": {},
   "outputs": [],
   "source": [
    "query = \"\"\"\n",
    "\"\"\"\n",
    "df = pd.read_sql(query, conn)"
   ]
  },
  {
   "cell_type": "code",
   "execution_count": null,
   "metadata": {},
   "outputs": [],
   "source": [
    "#### Add the rest of your code here\n",
    "\n"
   ]
  },
  {
   "cell_type": "code",
   "execution_count": null,
   "metadata": {},
   "outputs": [],
   "source": []
  },
  {
   "cell_type": "markdown",
   "metadata": {},
   "source": [
    "# II. Compare the average age of death of 4 ethnicities\n",
    "In [01-admin_demographic_data.ipynb](./01-admin_demographic_data.ipynb), we analzyed the age of death of patients and checked if there was a difference between male and female patients. Another important variable to consider in patient care is ethnicity.\n",
    "\n",
    "Let's compare the age of death of patients based on ethnicity. We'll limit our analysis to the 4 highest-frequency patient ethnicities:\n",
    "```\n",
    "(\"WHITE\", \"BLACK/AFRICAN AMERICAN\", \"ASIAN\", \"HISPANIC OR LATINO\")\n",
    "```\n",
    "\n",
    "## Instructions\n",
    "1. Write a query which calculates the age at death of patients\n",
    "2. Using either SQL or Pandas, group the results by **\"ethnicity_descr\"** and calculate the average value\n",
    "3. Plot a bar chart or horizontal bar chart to visualize the results"
   ]
  },
  {
   "cell_type": "code",
   "execution_count": null,
   "metadata": {},
   "outputs": [],
   "source": [
    "query = \"\"\"\n",
    "\"\"\"\n",
    "patients = pd.read_sql(query, conn)"
   ]
  },
  {
   "cell_type": "code",
   "execution_count": null,
   "metadata": {},
   "outputs": [],
   "source": [
    "#### Add the rest of your code here"
   ]
  },
  {
   "cell_type": "code",
   "execution_count": null,
   "metadata": {},
   "outputs": [],
   "source": []
  },
  {
   "cell_type": "markdown",
   "metadata": {},
   "source": [
    "# III. Hematocrit\n",
    "A hematocrit test measures the percentage of red blood cells in a patient's blood. Let's analyze the results of a test measuring this.\n",
    "\n",
    "\n",
    "## Instructions\n",
    "1. Select the first 1,000 rows of labs which contain results for the following test:\n",
    "    - **Loinc Code**: 20570-8\t\n",
    "    - **LOINC Description**: Hematocrit [Volume Fraction] of Blood<br>\n",
    "See the [LOINC website](https://loinc.org/20570-8/) for more documentation about this test.\n",
    "\n",
    "Save the resulting dataframe as a variable called `hemat`\n",
    "\n",
    "\n",
    "2. Fill the **NaN** values in the **\"flag\"** column with **\"Normal\"**. You can either do this with SQL using the `coalesce` function, or with Pandas using the `fillna` method. How many rows have normal vs. abnormal values?\n",
    "3. Generate descriptive statistics for the lab results in the column **\"valuenum\"**\n",
    "4. Create 2 plots which show the distribution of test result values\n",
    "\n",
    "**Hint:** We did something similar in [02-labs_vitals.ipynb](./02-labs_vitals.ipynb) when analyzing glucose measurements"
   ]
  },
  {
   "cell_type": "markdown",
   "metadata": {},
   "source": [
    "### **1. Select the first 1,000 rows of hematocrit labs as `hemat`**"
   ]
  },
  {
   "cell_type": "code",
   "execution_count": null,
   "metadata": {},
   "outputs": [],
   "source": [
    "query = \"\"\"\n",
    "\"\"\"\n",
    "hemat = pd.read_sql(query, conn)\n",
    "hemat.head()"
   ]
  },
  {
   "cell_type": "markdown",
   "metadata": {},
   "source": [
    "### 2. Fill the NaN values in the \"flag\" column and calculate the counts of **\"normal\"** and **\"abnormal\"** tests"
   ]
  },
  {
   "cell_type": "code",
   "execution_count": null,
   "metadata": {},
   "outputs": [],
   "source": []
  },
  {
   "cell_type": "code",
   "execution_count": null,
   "metadata": {},
   "outputs": [],
   "source": []
  },
  {
   "cell_type": "markdown",
   "metadata": {},
   "source": [
    "### 3. Generate descriptive statistics for the lab results in the column \"valuenum\""
   ]
  },
  {
   "cell_type": "code",
   "execution_count": null,
   "metadata": {},
   "outputs": [],
   "source": []
  },
  {
   "cell_type": "markdown",
   "metadata": {},
   "source": [
    "### 3. Create 2 plots which show the distribution of test result values"
   ]
  },
  {
   "cell_type": "code",
   "execution_count": null,
   "metadata": {},
   "outputs": [],
   "source": []
  },
  {
   "cell_type": "code",
   "execution_count": null,
   "metadata": {},
   "outputs": [],
   "source": []
  },
  {
   "cell_type": "code",
   "execution_count": null,
   "metadata": {},
   "outputs": [],
   "source": []
  },
  {
   "cell_type": "markdown",
   "metadata": {},
   "source": [
    "# IV. ABI\n",
    "The **ankle-brachial index test** compares the blood pressure measured at your ankle with the blood pressure measured at your arm. It is used to check for peripheral artery disease. A low ABI can indicate a blocking in your arteries. [[Mayo Clinic]](https://www.mayoclinic.org/tests-procedures/ankle-brachial-index/about/pac-20392934) \n",
    "\n",
    "Let's analyze this test and see what the distribution of values look like. In MIMIC, the following chartevents itemids indicate ABI measurements:\n",
    "\n",
    "```(2, 3, 4, 5)\n",
    "```\n",
    "\n",
    "## Instructions\n",
    "1. Join the tables `d_chartitems` and `chartevents`. Filter the results to rows which measure ABI values using the `itemid`s given above. Call thist able `abi`\n",
    "2. Drop rows which are missing value1\n",
    "3. Calculate the min, max, and mean values\n",
    "4. Generate a histogram. Change the number of bins to more clearly show the detail of the distribution (**Hint**: A larger number of bins shows more detail, a smaller number shows less)\n",
    "\n",
    "**Hint:** We did something similar in [02-labs_vitals.ipynb](./02-labs_vitals.ipynb) when systolic and diastolic blood pressure"
   ]
  },
  {
   "cell_type": "markdown",
   "metadata": {},
   "source": [
    "### 1. Join the tables and filter the results"
   ]
  },
  {
   "cell_type": "code",
   "execution_count": null,
   "metadata": {},
   "outputs": [],
   "source": []
  },
  {
   "cell_type": "markdown",
   "metadata": {},
   "source": [
    "### 2. Drop rows which are missing \"value1\"\n",
    "**Hint**: Make sure that you specifically dropping rows which are missing values in the **\"value\"** column, not *any* column."
   ]
  },
  {
   "cell_type": "code",
   "execution_count": null,
   "metadata": {},
   "outputs": [],
   "source": []
  },
  {
   "cell_type": "markdown",
   "metadata": {},
   "source": [
    "### 3. Calculate the min, max, and mean values"
   ]
  },
  {
   "cell_type": "code",
   "execution_count": null,
   "metadata": {},
   "outputs": [],
   "source": []
  },
  {
   "cell_type": "markdown",
   "metadata": {},
   "source": [
    "### 4. Plot a histogram with a modified number of bins"
   ]
  },
  {
   "cell_type": "code",
   "execution_count": null,
   "metadata": {},
   "outputs": [],
   "source": []
  },
  {
   "cell_type": "code",
   "execution_count": null,
   "metadata": {},
   "outputs": [],
   "source": []
  }
 ],
 "metadata": {
  "kernelspec": {
   "display_name": "Python 3",
   "language": "python",
   "name": "python3"
  },
  "language_info": {
   "codemirror_mode": {
    "name": "ipython",
    "version": 3
   },
   "file_extension": ".py",
   "mimetype": "text/x-python",
   "name": "python",
   "nbconvert_exporter": "python",
   "pygments_lexer": "ipython3",
   "version": "3.8.3"
  }
 },
 "nbformat": 4,
 "nbformat_minor": 4
}
