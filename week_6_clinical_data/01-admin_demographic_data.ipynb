{
 "cells": [
  {
   "cell_type": "code",
   "execution_count": null,
   "metadata": {},
   "outputs": [],
   "source": [
    "import pandas as pd\n",
    "import pymysql\n",
    "import getpass"
   ]
  },
  {
   "cell_type": "code",
   "execution_count": null,
   "metadata": {},
   "outputs": [],
   "source": [
    "import matplotlib.pyplot as plt\n",
    "%matplotlib inline\n",
    "\n",
    "import seaborn as sns\n",
    "sns.set()"
   ]
  },
  {
   "cell_type": "code",
   "execution_count": null,
   "metadata": {},
   "outputs": [],
   "source": [
    "# Let's connect to our database\n",
    "username = \"\" # Enter your username here\n",
    "conn = pymysql.connect(host=\"35.233.174.193\",port=3306,\n",
    "                       user=username,\n",
    "                       passwd=getpass.getpass(\"Enter password for MIMIC2 database\"),\n",
    "                       db='mimic2')"
   ]
  },
  {
   "cell_type": "markdown",
   "metadata": {},
   "source": [
    "# 01. Administrative and demographic data\n",
    "As we discussed in Week 4, administrative and demographic data define general information about the patient. Some of data includes:\n",
    "- Name\n",
    "- Sex\n",
    "- Date of birth\n",
    "- Insurance information"
   ]
  },
  {
   "cell_type": "markdown",
   "metadata": {},
   "source": [
    "In MIMIC, patient data is stored in a table called `d_patients`. Additional demograpic data is stored in a table called `demographic_detail`.\n",
    "\n",
    "See this page in the MIMIC-II guide for more information about patient entities in the database:\n",
    "https://mimic.mit.edu/archive/mimic-ii-guide.pdf#page=24\n",
    "\n",
    "## `d_patients`\n",
    "\n",
    "Let's first select all (`\"select *\"`) for the first 5 patients in `d_patients`. What columns are returned? What do they represent? In other words, what are the **semantics** of the data?"
   ]
  },
  {
   "cell_type": "code",
   "execution_count": null,
   "metadata": {},
   "outputs": [],
   "source": [
    "query = \"\"\"\n",
    "SELECT * \n",
    "FROM d_patients \n",
    "LIMIT 5;\n",
    "\"\"\"\n",
    "df = pd.read_sql(query, conn)\n",
    "df"
   ]
  },
  {
   "cell_type": "markdown",
   "metadata": {},
   "source": [
    "We can look at data for a specific patient by using a `where` statement to filter to a specific `subject_id`:"
   ]
  },
  {
   "cell_type": "code",
   "execution_count": null,
   "metadata": {},
   "outputs": [],
   "source": [
    "query = \"\"\"\n",
    "SELECT * \n",
    "FROM d_patients \n",
    "WHERE subject_id = 31;\n",
    "\"\"\"\n",
    "df = pd.read_sql(query, conn)\n",
    "df"
   ]
  },
  {
   "cell_type": "markdown",
   "metadata": {},
   "source": [
    "## `demographic_detail`\n",
    "\n",
    "`d_patients` contains just a few of the attributes for patients in the MIMIC database. A number of other attributes are stored in the `demographic_detail` table.\n",
    "\n",
    "#### TODO\n",
    "Select the top 10 rows from the demographics table. Discuss the columns which are returned."
   ]
  },
  {
   "cell_type": "code",
   "execution_count": null,
   "metadata": {},
   "outputs": [],
   "source": [
    "query = \"\"\"\n",
    "\n",
    "\"\"\"\n",
    "df = pd.read_sql(query, conn)\n",
    "df"
   ]
  },
  {
   "cell_type": "markdown",
   "metadata": {},
   "source": [
    "## Joining tables\n",
    "In a relational database like MIMIC, different attributes for entities are stored in different tables. These disparate tables can then be joined together in a query using a `join` statement. The column `subject_id`, which is the identifier for a patient, is consistent between these two columns and can be used to join them together:\n",
    "\n",
    "#### TODO\n",
    "Join the demographics and patients tables using the `subject_id` column in both as the joining keys. Select the **top 10** columns."
   ]
  },
  {
   "cell_type": "code",
   "execution_count": null,
   "metadata": {},
   "outputs": [],
   "source": [
    "query = \"\"\"\n",
    "SELECT * \n",
    "FROM d_patients\n",
    "    INNER JOIN ____ \n",
    "        ON ____.subject_id = ____.____\n",
    "____ 10;\n",
    "\"\"\"\n",
    "df = pd.read_sql(query, conn)\n",
    "df"
   ]
  },
  {
   "cell_type": "markdown",
   "metadata": {},
   "source": [
    "# Analyzing administrative and demographic data\n",
    "Now that we know what data we have, let's perform some analysis using these two tables. "
   ]
  },
  {
   "cell_type": "markdown",
   "metadata": {},
   "source": [
    "## Sex\n",
    "Let's compare the number of male vs. female patients. We can do this in two ways:\n",
    "1. **Pandas**: query all of the rows from `d_patients` and then use pandas to generate counts and plots\n",
    "2. **SQL**: using a `GROUP BY` query to get the counts of rows with male and female patients"
   ]
  },
  {
   "cell_type": "markdown",
   "metadata": {},
   "source": [
    "### 1. Pandas"
   ]
  },
  {
   "cell_type": "code",
   "execution_count": null,
   "metadata": {},
   "outputs": [],
   "source": [
    "query = \"\"\"\n",
    "SELECT * \n",
    "FROM d_patients;\n",
    "\"\"\"\n",
    "patients = pd.read_sql(query, conn)\n",
    "print(len(patients))\n",
    "patients.head()"
   ]
  },
  {
   "cell_type": "code",
   "execution_count": null,
   "metadata": {},
   "outputs": [],
   "source": [
    "patients.groupby(\"sex\").size()"
   ]
  },
  {
   "cell_type": "code",
   "execution_count": null,
   "metadata": {},
   "outputs": [],
   "source": [
    "patients.groupby(\"sex\").size().plot.bar()"
   ]
  },
  {
   "cell_type": "markdown",
   "metadata": {},
   "source": [
    "### 2. SQL"
   ]
  },
  {
   "cell_type": "code",
   "execution_count": null,
   "metadata": {},
   "outputs": [],
   "source": [
    "query = \"\"\"\n",
    "SELECT \n",
    "    sex, \n",
    "    COUNT(*) \n",
    "FROM d_patients\n",
    "GROUP BY sex;\n",
    "\"\"\"\n",
    "df = pd.read_sql(query, conn)\n",
    "df"
   ]
  },
  {
   "cell_type": "code",
   "execution_count": null,
   "metadata": {},
   "outputs": [],
   "source": []
  },
  {
   "cell_type": "markdown",
   "metadata": {},
   "source": [
    "## Age at death"
   ]
  },
  {
   "cell_type": "markdown",
   "metadata": {},
   "source": [
    "Let's say that we want to know what age patients were when they died. This will take a little more effort: there is no column containing this attribute, so we'll have to calculate it using the columns which are there.\n",
    "\n",
    "#### DISCUSSION\n",
    "What are the relevant columns in either `d_patients` or `demographic_detail` which will allow us to calculate how old a patient was when they died?\n",
    "\n",
    "We'll again do this in two different ways: first using SQL and then pandas.\n",
    "\n",
    "### 1. SQL\n",
    "Just like how we use functions in Python, SQL offers certain functions for containing common operations in our queries. One of these functions is DATEDIFF, which subtracts one column containing a date from another.\n",
    "\n",
    "#### TODO\n",
    "Edit the query below to extract the relevant columns and to generate a new column called `age_at_death` which contains the difference:"
   ]
  },
  {
   "cell_type": "code",
   "execution_count": null,
   "metadata": {},
   "outputs": [],
   "source": [
    "query = \"\"\"\n",
    "SELECT \n",
    "    subject_id, \n",
    "    sex, \n",
    "    dob, \n",
    "    dod,\n",
    "    DATEDIFF(___, ___) / 365  AS '___'\n",
    "FROM mimic2.d_patients\n",
    "LIMIT 100;\n",
    "\"\"\"\n",
    "df = pd.read_sql(query, conn)\n",
    "df"
   ]
  },
  {
   "cell_type": "markdown",
   "metadata": {},
   "source": [
    "We can sort the DataFrame by this **\"age_at_death\"** to see both the oldest and youngest patients who died in the hospital. To sort a dataframe based on a column, we use the `df.sort_values()` method. We'll pass in the following arguments:\n",
    "- `by`: The name of the column to use for sorting\n",
    "- `ascending`: Whether to sort in order of lowest to highest. Default is `True`\n",
    "\n",
    "So, to get the 5 youngest patients, we'll use the `sort_values` and call the `head` method to see the first few rows:"
   ]
  },
  {
   "cell_type": "code",
   "execution_count": null,
   "metadata": {},
   "outputs": [],
   "source": [
    "df.sort_values(\"age_at_death\", ascending=True).head()"
   ]
  },
  {
   "cell_type": "markdown",
   "metadata": {},
   "source": [
    "#### TODO\n",
    "Show the 5 oldest patients who died in the hospital."
   ]
  },
  {
   "cell_type": "code",
   "execution_count": null,
   "metadata": {},
   "outputs": [],
   "source": [
    "df.sort_values(\"___\", ascending=___).head()"
   ]
  },
  {
   "cell_type": "markdown",
   "metadata": {},
   "source": [
    "In addition to looking at individual patients based on this value, we can do some analysis at a population level by calculating descriptive statistics around this attribute. Let's calculate the max, min, and average ages. We can use agreggate functions to do this.\n",
    "\n",
    "#### TODO\n",
    "Edit the query below to calculate the max, min, and average ages of death."
   ]
  },
  {
   "cell_type": "code",
   "execution_count": null,
   "metadata": {},
   "outputs": [],
   "source": [
    "query = \"\"\"\n",
    "SELECT\n",
    "    COUNT(1) as 'number_of_patients',\n",
    "    ___(DATEDIFF(dod, dob) / 365) AS 'max_age_at_death',\n",
    "    MIN(DATEDIFF(dod, dob) / 365)  AS '___',\n",
    "    ___(___(dod, dob) / 365)  AS '___'\n",
    "FROM mimic2.d_patients\n",
    "\"\"\"\n",
    "df = pd.read_sql(query, conn)\n",
    "df"
   ]
  },
  {
   "cell_type": "markdown",
   "metadata": {},
   "source": [
    "## 2. pandas\n",
    "Now, let's use Python to do something similar. Earlier, we queried the entire `d_patients` table and stored it as a DataFrame called `patients`. Let's use this DataFrame to calculate a new column called **\"age_at_death\"** and then analyze it using pandas."
   ]
  },
  {
   "cell_type": "code",
   "execution_count": null,
   "metadata": {},
   "outputs": [],
   "source": [
    "# Here is the DataFrame we created earlier containing all the rows from d_patients\n",
    "patients.head()"
   ]
  },
  {
   "cell_type": "markdown",
   "metadata": {},
   "source": [
    "#### TODO\n",
    "Subtracting **\"dob\"** from **\"dod\"**. Save it as a variable called `days_at_death`."
   ]
  },
  {
   "cell_type": "code",
   "execution_count": null,
   "metadata": {},
   "outputs": [],
   "source": [
    "days_at_death = patients[___] - ___[\"dob\"]\n",
    "days_at_death.head()"
   ]
  },
  {
   "cell_type": "markdown",
   "metadata": {},
   "source": [
    "Let's take a look at what this column contains. Let's access the first row and look at the value. This is a different datatype then we're used to:"
   ]
  },
  {
   "cell_type": "code",
   "execution_count": null,
   "metadata": {},
   "outputs": [],
   "source": [
    "delta = days_at_death.iloc[0]\n",
    "delta"
   ]
  },
  {
   "cell_type": "code",
   "execution_count": null,
   "metadata": {},
   "outputs": [],
   "source": [
    "type(delta)"
   ]
  },
  {
   "cell_type": "markdown",
   "metadata": {},
   "source": [
    "This object represents the number of days between **\"dod\"** and **\"dob\"**. We will convert this into numbers."
   ]
  },
  {
   "cell_type": "code",
   "execution_count": null,
   "metadata": {},
   "outputs": [],
   "source": [
    "delta.days"
   ]
  },
  {
   "cell_type": "markdown",
   "metadata": {},
   "source": [
    "#### TODO\n",
    "Write a function `delta_to_years` which takes a `Timedelta` object, gets the number of days, and then returns that time span in years."
   ]
  },
  {
   "cell_type": "code",
   "execution_count": null,
   "metadata": {},
   "outputs": [],
   "source": [
    "def ____(delta):\n",
    "    ____"
   ]
  },
  {
   "cell_type": "markdown",
   "metadata": {},
   "source": [
    "Now, we can use the pandas method `apply` to run this function on all of the rows in `years_at_death`. This will return a new column where the values correspond to having run `delta_to_years` on all of the rows in `years_at_death`. \n",
    "\n",
    "#### TODO\n",
    "Pass the name of our new function as an argument to `days_at_death.apply`"
   ]
  },
  {
   "cell_type": "code",
   "execution_count": null,
   "metadata": {},
   "outputs": [],
   "source": [
    "years_at_death = days_at_death.apply(____)"
   ]
  },
  {
   "cell_type": "markdown",
   "metadata": {},
   "source": [
    "Now, finally, save this new computed series as a column in `patients`. We can then use the `describe` method to get descriptive statistics of this column:"
   ]
  },
  {
   "cell_type": "code",
   "execution_count": null,
   "metadata": {},
   "outputs": [],
   "source": [
    "patients[____] = years_at_death"
   ]
  },
  {
   "cell_type": "code",
   "execution_count": null,
   "metadata": {},
   "outputs": [],
   "source": [
    "patients.head()"
   ]
  },
  {
   "cell_type": "code",
   "execution_count": null,
   "metadata": {},
   "outputs": [],
   "source": [
    "patients[\"age_at_death\"].describe()"
   ]
  },
  {
   "cell_type": "markdown",
   "metadata": {},
   "source": [
    "## Plotting age at death"
   ]
  },
  {
   "cell_type": "markdown",
   "metadata": {},
   "source": [
    "Now, let's use some additional Python libraries to plot this data in a histogram. Last week, we used a mix of `pandas`, `matplotlib`, and `seaborn` to plot BMI measurements. We'll now use some of those same methods to analyze the age of patients' death in MIMIC:"
   ]
  },
  {
   "cell_type": "code",
   "execution_count": null,
   "metadata": {},
   "outputs": [],
   "source": [
    "import seaborn as sns\n",
    "import matplotlib.pyplot as plt\n",
    "%matplotlib inline"
   ]
  },
  {
   "cell_type": "code",
   "execution_count": null,
   "metadata": {},
   "outputs": [],
   "source": [
    "ax = sns.distplot(patients['age_at_death'])"
   ]
  },
  {
   "cell_type": "code",
   "execution_count": null,
   "metadata": {},
   "outputs": [],
   "source": [
    "# We can also use a boxplot:\n",
    "ax = sns.boxplot( y='age_at_death', data=patients)"
   ]
  },
  {
   "cell_type": "markdown",
   "metadata": {},
   "source": [
    "# Combining attributes\n",
    "In this notebook, we looked at two patient attributes: **sex** and **age at death**. Let's now combine these two variables to analyze whether the age at death differs between male and female patients. We'll first do this by calculating descriptive statistics, then we'll create some visualizations to help aid our analysis.\n",
    "\n",
    "#### TODO\n",
    "Call `patients.groupby()` to group the patients table by **\"sex\"**. Then, call the `describe` method to get descriptive statistics about the **\"age_at_death\"** column.  "
   ]
  },
  {
   "cell_type": "code",
   "execution_count": null,
   "metadata": {},
   "outputs": [],
   "source": [
    "patients[[\"sex\", \"age_at_death\"]].____(____).describe()"
   ]
  },
  {
   "cell_type": "markdown",
   "metadata": {},
   "source": [
    "#### TODO\n",
    "Plot a boxplot using the `sns.boxplot` method. Like before, we'll plot **\"age_at_death\"** as the y variable. But we can break it up by gender by plotting **\"sex\"** as the x-axis variable. "
   ]
  },
  {
   "cell_type": "code",
   "execution_count": null,
   "metadata": {},
   "outputs": [],
   "source": [
    "ax = sns.____(_='age_at_death', x=____, data=patients, order=['F', 'M'])"
   ]
  },
  {
   "cell_type": "markdown",
   "metadata": {},
   "source": [
    "We can also use pandas to break the female and male datapoints into two histograms:"
   ]
  },
  {
   "cell_type": "code",
   "execution_count": null,
   "metadata": {},
   "outputs": [],
   "source": [
    "_ = patients.hist('age_at_death', by='sex', sharey=True, sharex=True)"
   ]
  },
  {
   "cell_type": "markdown",
   "metadata": {},
   "source": [
    "### Discussion\n",
    "Looking at these statistics and the two plots we generated, what can you say about the difference between the age of death for men and women?"
   ]
  },
  {
   "cell_type": "code",
   "execution_count": null,
   "metadata": {},
   "outputs": [],
   "source": []
  },
  {
   "cell_type": "markdown",
   "metadata": {},
   "source": [
    "# Next Steps\n",
    "In our next notebook, we will look at lab and vitals measurements in MIMIC.\n",
    "\n",
    "[02-labs_vitals.ipynb](./02-labs_vitals.ipynb)"
   ]
  },
  {
   "cell_type": "code",
   "execution_count": null,
   "metadata": {},
   "outputs": [],
   "source": []
  }
 ],
 "metadata": {
  "kernelspec": {
   "display_name": "Python 3",
   "language": "python",
   "name": "python3"
  },
  "language_info": {
   "codemirror_mode": {
    "name": "ipython",
    "version": 3
   },
   "file_extension": ".py",
   "mimetype": "text/x-python",
   "name": "python",
   "nbconvert_exporter": "python",
   "pygments_lexer": "ipython3",
   "version": "3.8.3"
  }
 },
 "nbformat": 4,
 "nbformat_minor": 4
}
