{
 "cells": [
  {
   "cell_type": "code",
   "execution_count": null,
   "metadata": {},
   "outputs": [],
   "source": [
    "from IPython.display import Image"
   ]
  },
  {
   "cell_type": "markdown",
   "metadata": {},
   "source": [
    "# 00. Introduction to MIMIC-II\n",
    "\n",
    "# Overview\n",
    "\n",
    "In **Week 4**, we discussed clinical information and how it is generated, recorded, and represented. This week we will utilize a real-world dataset of de-identified patient data, called **\"MIMIC-II\"**, which will allow us to work with real world clinical data. We'll use **SQL** to query the database and **Python** to visualize and transform the data.\n",
    "\n",
    "\n",
    "In this notebook we'll have a quick overview of the environments we're working in and the tools we'll be using."
   ]
  },
  {
   "cell_type": "markdown",
   "metadata": {},
   "source": [
    "# Setup\n",
    "First, we'll need to make sure that we have all of the necessary packages installed. Try running the cell below to import all of the packages. If you get any `Import Error`s, go to your termianl and type:\n",
    "\n",
    "```bash\n",
    "pip install <package-name>\n",
    "```\n",
    "\n",
    "with the name of the package which failed replacing `<package-name>`.\n",
    "\n",
    "Instead of a terminal, you can also run the cells below:"
   ]
  },
  {
   "cell_type": "code",
   "execution_count": null,
   "metadata": {},
   "outputs": [],
   "source": [
    "!pip install pymysql"
   ]
  },
  {
   "cell_type": "code",
   "execution_count": null,
   "metadata": {},
   "outputs": [],
   "source": [
    "# Pandas is a library which allows us to work with tabular data from a number of different formats,\n",
    "# including SQL\n",
    "import pandas as pd\n",
    "\n",
    "# pymysql will run MySQL in Python\n",
    "import pymysql\n",
    "\n",
    "import getpass\n",
    "\n",
    "# Visualization libraries\n",
    "import matplotlib.pyplot as plt\n",
    "import seaborn as sns"
   ]
  },
  {
   "cell_type": "markdown",
   "metadata": {},
   "source": [
    "# MIMIC-II\n",
    "MIMIC is an openly available clinical database. It is **de-identified**, meaning that any information which would connect a patient to their data has been removed or altered. That means that we have access to it as researchers, students, and developers. \n",
    "\n",
    "The research database has been updated to MIMIC-III, which is similar but contains patients for living patients, while MIMIC-II has only deceased patients. MIMIC-III requires a data usage agreement, so we will instead use the older version. The two versions are very similar and contain much of the same data.\n",
    "\n",
    "Here is a description of MIMIC-III from the [MIMIC website](https://mimic.physionet.org/):\n",
    "\n",
    "***\n",
    "<strong>\n",
    "MIMIC-III (Medical Information Mart for Intensive Care III) is a large, freely-available database comprising deidentified health-related data associated with over forty thousand patients who stayed in critical care units of the Beth Israel Deaconess Medical Center between 2001 and 2012.\n",
    "\n",
    "The database includes information such as demographics, vital sign measurements made at the bedside (~1 data point per hour), laboratory test results, procedures, medications, caregiver notes, imaging reports, and mortality (both in and out of hospital).\n",
    "</strong>\n",
    "***"
   ]
  },
  {
   "cell_type": "markdown",
   "metadata": {},
   "source": [
    "# Connecting to MIMIC"
   ]
  },
  {
   "cell_type": "markdown",
   "metadata": {},
   "source": [
    "We will use Python and SQL to access an instance of SQL which is set up on Google Cloud. In order to connect, you'll need to do the following:\n",
    "- Use a username and password provided by the instructor (see message in Canvas)\n",
    "- Be using a whitelisted IP address\n",
    "    - This can either be using the campus network **or** by providing me with the public IP address to your network at home\n",
    "    - **NOTE:** Using the UVU campus VPN will unfortunately **not** be sufficient for this. You need to be connected on an actual machine hosted on campus or be in person on campus"
   ]
  },
  {
   "cell_type": "markdown",
   "metadata": {},
   "source": [
    "## Connecting with pymysql\n",
    "We will use `pymysql`, a Python package which allows us to work with MySQL in Python. We can establish a connection to the database by using the `connect` function. This function accepts as arguments the database host and user credentials. It returns a `Connection` object which we use whenever we want to query the database.\n",
    "\n",
    "The host name, username, and database name have been defined for you. When prompted, enter the password:"
   ]
  },
  {
   "cell_type": "code",
   "execution_count": null,
   "metadata": {},
   "outputs": [],
   "source": [
    "conn = pymysql.connect(host=\"35.233.174.193\",port=3306,\n",
    "                       user=\"jovyan\",passwd=getpass.getpass(\"Enter password for MIMIC2 database\"),\n",
    "                       db='mimic2')"
   ]
  },
  {
   "cell_type": "code",
   "execution_count": null,
   "metadata": {},
   "outputs": [],
   "source": [
    "conn"
   ]
  },
  {
   "cell_type": "markdown",
   "metadata": {},
   "source": [
    "## Querying with pandas\n",
    "If you didn't get an error, then that means it worked! We can now query our database using the `conn` object. To execute queries, we will use `pandas`, which has some helpful utilities for working with SQL.\n",
    "\n",
    "The method we will use for running queries is `pd.read_sql`. Similar to `pd.read_csv` which we used last week, this is a function which will take a data source and return a DataFrame. `pd.read_sql` takes two required arguments:\n",
    "\n",
    "- `sql`: A string containing a SQL query\n",
    "- `con`: The connection object which allows us to access the database \n",
    "\n",
    "Here is the full documentation for `pd.read_sql`:"
   ]
  },
  {
   "cell_type": "code",
   "execution_count": null,
   "metadata": {
    "scrolled": true
   },
   "outputs": [],
   "source": [
    "help(pd.read_sql)"
   ]
  },
  {
   "cell_type": "markdown",
   "metadata": {},
   "source": [
    "## Our first query\n",
    "Let's query our database. We'll first define a simple query as a string to select the names of tables from the database:"
   ]
  },
  {
   "cell_type": "code",
   "execution_count": null,
   "metadata": {},
   "outputs": [],
   "source": [
    "query = \"\"\"\n",
    "show tables;\n",
    "\"\"\"\n",
    "print(query)"
   ]
  },
  {
   "cell_type": "markdown",
   "metadata": {},
   "source": [
    "Now we'll pass this string and our connection to pandas.\n",
    "\n",
    "#### TODO\n",
    "Call `pd.read_sql` using the query and connection object."
   ]
  },
  {
   "cell_type": "code",
   "execution_count": null,
   "metadata": {
    "scrolled": true
   },
   "outputs": [],
   "source": [
    "# Pass the query and our MySQL connection to pandas. \n",
    "# Store the result a variable called df (DataFrame)\n",
    "df = pd.read_sql(query, conn)\n",
    "df"
   ]
  },
  {
   "cell_type": "markdown",
   "metadata": {},
   "source": [
    "The resulting dataframe `df` contains one row for each of the tables in our database. Note that SQL gives a column name **\"Tables_in_mimic2\"**."
   ]
  },
  {
   "cell_type": "markdown",
   "metadata": {},
   "source": [
    "Once we're done with our database, it's best practice to close the connection by calling `conn.close()`:"
   ]
  },
  {
   "cell_type": "code",
   "execution_count": null,
   "metadata": {},
   "outputs": [],
   "source": [
    "# Close the connection\n",
    "conn.close()"
   ]
  },
  {
   "cell_type": "markdown",
   "metadata": {},
   "source": [
    "# Database Schema\n",
    "There is a PDF containing MIMIC-II documentation here:\n",
    "https://mimic.mit.edu/archive/mimic-ii-guide.pdf\n",
    "\n",
    "The documentation is quite detailed and technical, but it's useful if you have a specific question about a table or schema. The diagram below shows a high-lebel summary of the types of data contained in the MIMIC database. Note that many of them are similar to what we discussed in class. \n",
    "\n",
    "#### Discussion\n",
    "Which of these data types did we discuss in **Week 4**?"
   ]
  },
  {
   "cell_type": "code",
   "execution_count": null,
   "metadata": {},
   "outputs": [],
   "source": [
    "Image(\"./mimic_data_types.png\")"
   ]
  },
  {
   "cell_type": "markdown",
   "metadata": {},
   "source": [
    "# Next Steps\n",
    "Now that we know how to query data from MIMIC, let's continue to our next notebook to start working with patient data. We'll start by looking at **administrative and demographic data**:\n",
    "\n",
    "[01-admin_demographic_data.ipynb](./01-admin_demographic_data.ipynb)"
   ]
  },
  {
   "cell_type": "code",
   "execution_count": null,
   "metadata": {},
   "outputs": [],
   "source": []
  },
  {
   "cell_type": "code",
   "execution_count": null,
   "metadata": {},
   "outputs": [],
   "source": []
  }
 ],
 "metadata": {
  "kernelspec": {
   "display_name": "Python 3",
   "language": "python",
   "name": "python3"
  },
  "language_info": {
   "codemirror_mode": {
    "name": "ipython",
    "version": 3
   },
   "file_extension": ".py",
   "mimetype": "text/x-python",
   "name": "python",
   "nbconvert_exporter": "python",
   "pygments_lexer": "ipython3",
   "version": "3.8.3"
  }
 },
 "nbformat": 4,
 "nbformat_minor": 4
}
