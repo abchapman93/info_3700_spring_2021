{
 "cells": [
  {
   "cell_type": "markdown",
   "metadata": {},
   "source": [
    "# Use Case\n",
    "\n",
    "As a physician, I want to calculate a patient's cardiovascular risk using the Framingham calculator - http://reference.medscape.com/calculator/framingham-coronary-risk-ldl\n",
    "\n",
    "Several peices of data are needed to perform this calculation. We will use FHIR to pull the data we need from the patient's health record."
   ]
  },
  {
   "cell_type": "code",
   "execution_count": null,
   "metadata": {},
   "outputs": [],
   "source": [
    "!pip3 install requests"
   ]
  },
  {
   "cell_type": "markdown",
   "metadata": {},
   "source": [
    "#### First, let's import and define some variables"
   ]
  },
  {
   "cell_type": "code",
   "execution_count": null,
   "metadata": {},
   "outputs": [],
   "source": [
    "import datetime\n",
    "from datetime import timedelta\n",
    "from datetime import date\n",
    "from dateutil.relativedelta import relativedelta\n",
    "import requests\n",
    "import json\n",
    "\n",
    "# Define the FHIR Endpoint\n",
    "fhir_url = \"https://api.logicahealth.org/test231/open/\""
   ]
  },
  {
   "cell_type": "markdown",
   "metadata": {},
   "source": [
    "# I. \"Patient\" resource\n",
    "We will use the `\"Patient\"` resource to represent demographic information about a patient.\n",
    "\n",
    "#### TODO\n",
    "First, perform a GET on patient with id of 'SMART-1627321' using the `requests` library. This returns a `Response` object, which has an attribute called `.text` which contains the actual response we're interested in. Parse this response text using the `json` library to create a Python dictionary."
   ]
  },
  {
   "cell_type": "code",
   "execution_count": null,
   "metadata": {},
   "outputs": [],
   "source": [
    "patient_url = fhir_url + \"Patient/SMART-1627321\"\n",
    "patient_url"
   ]
  },
  {
   "cell_type": "code",
   "execution_count": null,
   "metadata": {},
   "outputs": [],
   "source": [
    "patient_res = ____.get(patient_url)"
   ]
  },
  {
   "cell_type": "code",
   "execution_count": null,
   "metadata": {},
   "outputs": [],
   "source": [
    "patient_res"
   ]
  },
  {
   "cell_type": "code",
   "execution_count": null,
   "metadata": {},
   "outputs": [],
   "source": [
    "print(patient_res.text[:50])"
   ]
  },
  {
   "cell_type": "code",
   "execution_count": null,
   "metadata": {},
   "outputs": [],
   "source": [
    "patient_json = json.loads(patient_res.____)"
   ]
  },
  {
   "cell_type": "code",
   "execution_count": null,
   "metadata": {},
   "outputs": [],
   "source": [
    "patient_json"
   ]
  },
  {
   "cell_type": "markdown",
   "metadata": {},
   "source": [
    "Now that we have this patient's information as a dictionary, we can access specific attributes about the patient using the dictionary's keys.\n",
    "\n",
    "#### TODO\n",
    "Save the first and last names of the patients and store them as variables `first_name` and `last_name`. These values are stored in the `[\"name\"]` field of `patient_json`."
   ]
  },
  {
   "cell_type": "code",
   "execution_count": null,
   "metadata": {},
   "outputs": [],
   "source": [
    "patient_json[\"name\"]"
   ]
  },
  {
   "cell_type": "code",
   "execution_count": null,
   "metadata": {},
   "outputs": [],
   "source": [
    "# Save the first and last name of the patient\n",
    "first_name = patient_json[\"name\"][0][____][0]\n",
    "last_name = ____"
   ]
  },
  {
   "cell_type": "code",
   "execution_count": null,
   "metadata": {},
   "outputs": [],
   "source": [
    "print(\"Patient's Name = {0} {1}\".format(first_name, last_name))"
   ]
  },
  {
   "cell_type": "markdown",
   "metadata": {},
   "source": [
    "#### TODO\n",
    "Next, save and print the patient's date of birth and gender. You can print out the dictionary's keys to see which values to use."
   ]
  },
  {
   "cell_type": "code",
   "execution_count": null,
   "metadata": {},
   "outputs": [],
   "source": [
    "patient_json.keys()"
   ]
  },
  {
   "cell_type": "code",
   "execution_count": null,
   "metadata": {},
   "outputs": [],
   "source": [
    "# Print the patient's date of birth\n",
    "dob = patient_json[____]\n",
    "print(\"DOB = {0}\".format(dob))"
   ]
  },
  {
   "cell_type": "code",
   "execution_count": null,
   "metadata": {},
   "outputs": [],
   "source": [
    "# Print patient's gender\n",
    "gender = ____\n",
    "print(\"Gender = {0}\".format(gender))"
   ]
  },
  {
   "cell_type": "markdown",
   "metadata": {},
   "source": [
    "Next, we'll calculate the patient's age using the `rdelta` method of the `dateutil` module. This is similar to when we calculated patient's age at death in Week 6."
   ]
  },
  {
   "cell_type": "code",
   "execution_count": null,
   "metadata": {},
   "outputs": [],
   "source": [
    "now = datetime.datetime.today()\n",
    "dob2 = datetime.datetime.strptime(dob, '%Y-%m-%d')\n",
    "rdelta = relativedelta(now, dob2)\n",
    "age = rdelta.years"
   ]
  },
  {
   "cell_type": "code",
   "execution_count": null,
   "metadata": {},
   "outputs": [],
   "source": [
    "# print the years from the rdelta object\n",
    "print(\"Patient's age = {0}\".format(age))"
   ]
  },
  {
   "cell_type": "markdown",
   "metadata": {},
   "source": [
    "# II. \"Observation\" resource \n",
    "LOINC codes:  \n",
    "&nbsp;&nbsp;&nbsp;LDL: 18262-6  \n",
    "&nbsp;&nbsp;&nbsp;HDL: 2085-9"
   ]
  },
  {
   "cell_type": "markdown",
   "metadata": {},
   "source": [
    "## LDL Value\n",
    "Similar to what we did for the `Patient` resource above, we will make a request for an `Observation`. This time we'll also pass in a search parameter specifying the LOINC code for an LDL test and for our specific patient. We'll then parse out the value of the test."
   ]
  },
  {
   "cell_type": "code",
   "execution_count": null,
   "metadata": {},
   "outputs": [],
   "source": [
    "ldl_url = fhir_url + \"Observation?code=18262-6&subject=SMART-1627321\"\n",
    "ldl_url"
   ]
  },
  {
   "cell_type": "code",
   "execution_count": null,
   "metadata": {},
   "outputs": [],
   "source": [
    "ldl_res = ____.____(ldl_url)"
   ]
  },
  {
   "cell_type": "code",
   "execution_count": null,
   "metadata": {},
   "outputs": [],
   "source": [
    "ldl_res"
   ]
  },
  {
   "cell_type": "code",
   "execution_count": null,
   "metadata": {},
   "outputs": [],
   "source": [
    "ldl_json = json.loads(____)"
   ]
  },
  {
   "cell_type": "code",
   "execution_count": null,
   "metadata": {},
   "outputs": [],
   "source": [
    "ldl_resource = ldl_json[\"entry\"][0][\"resource\"]"
   ]
  },
  {
   "cell_type": "code",
   "execution_count": null,
   "metadata": {},
   "outputs": [],
   "source": [
    "ldl_resource"
   ]
  },
  {
   "cell_type": "code",
   "execution_count": null,
   "metadata": {},
   "outputs": [],
   "source": [
    "ldl_resource.keys()"
   ]
  },
  {
   "cell_type": "code",
   "execution_count": null,
   "metadata": {},
   "outputs": [],
   "source": [
    "ldl_val = ldl_resource[\"valueQuantity\"][\"value\"]\n",
    "ldl_unit = ldl_resource[\"valueQuantity\"][\"unit\"]"
   ]
  },
  {
   "cell_type": "code",
   "execution_count": null,
   "metadata": {},
   "outputs": [],
   "source": [
    "print(ldl_val, ldl_unit)"
   ]
  },
  {
   "cell_type": "markdown",
   "metadata": {},
   "source": [
    "## HDL value\n",
    "#### TODO\n",
    "Now, follow the same steps for the HDL lab value. Start by performing a `GET` operation using the provided URL and then parse out the `hdl_value`, similar to what we did above for the LDL."
   ]
  },
  {
   "cell_type": "code",
   "execution_count": null,
   "metadata": {},
   "outputs": [],
   "source": [
    "hdl_url = fhir_url + \"Observation?code=2085-9&subject=SMART-1627321\""
   ]
  },
  {
   "cell_type": "code",
   "execution_count": null,
   "metadata": {},
   "outputs": [],
   "source": [
    "hdl_url"
   ]
  },
  {
   "cell_type": "code",
   "execution_count": null,
   "metadata": {},
   "outputs": [],
   "source": [
    "# Complete this code to get the value and unit for the HDL test\n",
    "# ...\n",
    "# ...\n",
    "\n",
    "hdl_val = ____\n",
    "hdl_unit = ____\n",
    "print(hdl_val, hdl_unit)"
   ]
  },
  {
   "cell_type": "markdown",
   "metadata": {},
   "source": [
    "## Systolic and diastolic blood pressure\n",
    "Use the \"Observation\" resource.  \n",
    "LOINC code: 55284-4"
   ]
  },
  {
   "cell_type": "code",
   "execution_count": null,
   "metadata": {},
   "outputs": [],
   "source": [
    "press_url = fhir_url + \"Observation?code=55284-4&subject=SMART-1627321\"\n",
    "press_url"
   ]
  },
  {
   "cell_type": "code",
   "execution_count": null,
   "metadata": {},
   "outputs": [],
   "source": [
    "press_res = ____\n",
    "press_json =  ____"
   ]
  },
  {
   "cell_type": "code",
   "execution_count": null,
   "metadata": {},
   "outputs": [],
   "source": [
    "press_resource = press_json[\"entry\"][0][\"resource\"]"
   ]
  },
  {
   "cell_type": "code",
   "execution_count": null,
   "metadata": {},
   "outputs": [],
   "source": [
    "press_resource.keys()"
   ]
  },
  {
   "cell_type": "markdown",
   "metadata": {},
   "source": [
    "The systolic and diastolic blood pressures are stored in the first and second elements of the `\"component\"` field."
   ]
  },
  {
   "cell_type": "code",
   "execution_count": null,
   "metadata": {},
   "outputs": [],
   "source": [
    "sys = press_resource[\"component\"][0][\"valueQuantity\"][\"value\"]\n",
    "dia = press_resource[\"component\"][1][\"valueQuantity\"][\"value\"]"
   ]
  },
  {
   "cell_type": "code",
   "execution_count": null,
   "metadata": {},
   "outputs": [],
   "source": [
    "print(\"Systolic: \" + str(sys) + \" \" + press_resource[\"component\"][0][\"valueQuantity\"][\"unit\"])\n",
    "print(\"Diastolic: \" + str(dia) + \" \" + press_resource[\"component\"][0][\"valueQuantity\"][\"unit\"])"
   ]
  },
  {
   "cell_type": "markdown",
   "metadata": {},
   "source": [
    "# III. \"Condition\" resource"
   ]
  },
  {
   "cell_type": "markdown",
   "metadata": {},
   "source": [
    "### Does the patient have diabetes?\n",
    "Of course, there are many types of diabetes. Normally, you would call a \"ValueSet\" resource to get all possible diabetes codes, but to keep things simple, we'll just use the code for Type 2 diabetes.\n",
    "\n",
    "Use the \"Condition\" resource using the SNOMED code **44054006**. We'll create a boolean variable called `diabetes` which will be set to `True` if the patient has this SNOMED code and `False` otherwise."
   ]
  },
  {
   "cell_type": "code",
   "execution_count": null,
   "metadata": {},
   "outputs": [],
   "source": [
    "diabetes = False"
   ]
  },
  {
   "cell_type": "code",
   "execution_count": null,
   "metadata": {},
   "outputs": [],
   "source": [
    "diabetes_url = fhir_url + \"Condition?code=44054006&subject=SMART-1627321\"\n",
    "diabetes_url"
   ]
  },
  {
   "cell_type": "code",
   "execution_count": null,
   "metadata": {},
   "outputs": [],
   "source": [
    "diabetes_res = ____\n",
    "diabetes_json = ____"
   ]
  },
  {
   "cell_type": "code",
   "execution_count": null,
   "metadata": {},
   "outputs": [],
   "source": [
    "if len(diabetes_json[\"entry\"]) > 0:\n",
    "    diabetes = True"
   ]
  },
  {
   "cell_type": "code",
   "execution_count": null,
   "metadata": {},
   "outputs": [],
   "source": [
    "print(\"Diabetes: \", diabetes)"
   ]
  },
  {
   "cell_type": "markdown",
   "metadata": {},
   "source": [
    "### Does the patient smoke?\n",
    "Again, there are many codes for smoking. First, use the code for \"Tobacco smoking status\" to get all Observation resources that define the patient's smoking status. Then filter by SNOMED code for \"Occasional tobacco smoker\".\n",
    "\n",
    "LOINC \"Tobacco smoking status\": 72166-2  \n",
    "SNOMED \"Occasional tobacco smoker\": 428041000124106"
   ]
  },
  {
   "cell_type": "code",
   "execution_count": null,
   "metadata": {},
   "outputs": [],
   "source": [
    "smoking = False"
   ]
  },
  {
   "cell_type": "code",
   "execution_count": null,
   "metadata": {},
   "outputs": [],
   "source": [
    "smoking_url = fhir_url + \"Observation?code=72166-2&subject=SMART-1627321\"\n",
    "smoking_url"
   ]
  },
  {
   "cell_type": "code",
   "execution_count": null,
   "metadata": {},
   "outputs": [],
   "source": [
    "smoke_res = ____\n",
    "smoke_json = ____"
   ]
  },
  {
   "cell_type": "code",
   "execution_count": null,
   "metadata": {},
   "outputs": [],
   "source": [
    "if len(smoke_json[\"entry\"]) > 0:\n",
    "    smoke_resource = smoke_json[\"entry\"][0][\"resource\"]\n",
    "    if smoke_resource[\"valueCodeableConcept\"][\"coding\"][0][\"code\"] == \"428041000124106\":\n",
    "        smoking = True"
   ]
  },
  {
   "cell_type": "code",
   "execution_count": null,
   "metadata": {},
   "outputs": [],
   "source": [
    "print(\"Smoker:\", smoking)"
   ]
  },
  {
   "cell_type": "markdown",
   "metadata": {},
   "source": [
    "### Coronary Risk Calculator"
   ]
  },
  {
   "cell_type": "code",
   "execution_count": null,
   "metadata": {},
   "outputs": [],
   "source": [
    "points = 0\n",
    "\n",
    "if gender == \"male\":\n",
    "    if age <= 34:\n",
    "        points += -1\n",
    "    if age >= 40 and age <= 44:\n",
    "        points += 1\n",
    "    if age >= 45 and age <= 49:\n",
    "        points += 2\n",
    "    if age >= 50 and age <= 54:\n",
    "        points += 3\n",
    "    if age >= 55 and age <= 59:\n",
    "        points += 4\n",
    "    if age >= 60 and age <= 64:\n",
    "        points += 5\n",
    "    if age >= 65 and age <= 69:\n",
    "        points += 6\n",
    "    if age >= 70:\n",
    "        points += 7\n",
    "    if ldl_val < 100:\n",
    "        points += -3\n",
    "    if ldl_val >= 160 and ldl_val <= 189:\n",
    "        points += 1\n",
    "    if ldl_val >= 190:\n",
    "        points += 2\n",
    "    if hdl_val < 35:\n",
    "        points += 2\n",
    "    if hdl_val >= 35 and hdl_val <= 44:\n",
    "        points += 1\n",
    "    if hdl_val >= 60:\n",
    "        points += -1\n",
    "    if sys <=129 and dia >= 85 and dia <= 89:\n",
    "        points += 1\n",
    "    if sys >= 130 and sys <=139 and dia < 90:\n",
    "        points += 1\n",
    "    if sys <= 139 and dia >= 90 and dia <= 99:\n",
    "        points += 2\n",
    "    if sys >= 140 and sys <=159 and dia < 100:\n",
    "        points += 2\n",
    "    if sys > 159 or dia > 99:\n",
    "        points += 3\n",
    "    if diabetes == True:\n",
    "        points += 2\n",
    "    if smoking == True:\n",
    "        points += 2"
   ]
  },
  {
   "cell_type": "code",
   "execution_count": null,
   "metadata": {},
   "outputs": [],
   "source": [
    "if gender == \"female\":\n",
    "    if age <= 34:\n",
    "        points += -9\n",
    "    if age >= 35 and age <= 39:\n",
    "        points += -4\n",
    "    if age >= 45 and age <= 49:\n",
    "        points += 3\n",
    "    if age >= 50 and age <= 54:\n",
    "        points += 6\n",
    "    if age >= 55 and age <= 59:\n",
    "        points += 7\n",
    "    if age >= 60:\n",
    "        points += 8\n",
    "    if ldl_val < 100:\n",
    "        points += -2\n",
    "    if ldl_val >= 160:\n",
    "        points += 2\n",
    "    if hdl_val < 35:\n",
    "        points += 5\n",
    "    if hdl_val >= 35 and hdl_val <= 44:\n",
    "        points += 2\n",
    "    if hdl_val >= 45 and hdl_val <= 49:\n",
    "        points += 1\n",
    "    if hdl_val >= 60:\n",
    "        points += -2\n",
    "    if sys < 120 and dia < 80:\n",
    "        points += -3\n",
    "    if sys <=159 and dia >=90 and dia < 100:\n",
    "        points += 2\n",
    "    if sys > 159 or dia > 99:\n",
    "        points += 3\n",
    "    if diabetes == True:\n",
    "        points += 4\n",
    "    if smoking == True:\n",
    "        points += 2"
   ]
  },
  {
   "cell_type": "code",
   "execution_count": null,
   "metadata": {},
   "outputs": [],
   "source": [
    "male_results = {0:3,1:4,2:4,3:6,4:7,5:9,6:11,7:14,8:18,9:22,10:27,11:33,12:40,13:47}\n",
    "female_results = {0:2,1:2,2:3,3:3,4:4,5:5,6:6,7:7,8:8,9:9,10:11,11:13,12:15,13:17,14:20,15:24,16:27}\n",
    "\n",
    "if points >=14 and gender == \"male\":\n",
    "    risk = \">= 56%\"\n",
    "elif points >=17 and gender == \"female\":\n",
    "    risk = \">= 32%\"\n",
    "elif gender == \"male\":\n",
    "    percent = male_results[points]\n",
    "    risk = str(percent)+\"%\"\n",
    "else:\n",
    "    percent = female_results[points]\n",
    "    risk = str(percent)+\"%\"\n",
    "print(\"Total number of points: \" + str(points))\n",
    "print(\"Risk of Heart Disease: \" + risk)"
   ]
  },
  {
   "cell_type": "code",
   "execution_count": null,
   "metadata": {},
   "outputs": [],
   "source": []
  }
 ],
 "metadata": {
  "anaconda-cloud": {},
  "kernelspec": {
   "display_name": "Python 3",
   "language": "python",
   "name": "python3"
  },
  "language_info": {
   "codemirror_mode": {
    "name": "ipython",
    "version": 3
   },
   "file_extension": ".py",
   "mimetype": "text/x-python",
   "name": "python",
   "nbconvert_exporter": "python",
   "pygments_lexer": "ipython3",
   "version": "3.8.5"
  }
 },
 "nbformat": 4,
 "nbformat_minor": 4
}
