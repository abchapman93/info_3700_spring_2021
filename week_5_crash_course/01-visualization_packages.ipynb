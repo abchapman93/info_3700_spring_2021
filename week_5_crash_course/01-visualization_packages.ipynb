{
 "cells": [
  {
   "cell_type": "markdown",
   "metadata": {},
   "source": [
    "# Overview\n",
    "\n",
    "In the next two notebooks we'll review a few Python libraries which we're going to use frequently throughout the course. These libraries are based around processing and visualizing data."
   ]
  },
  {
   "cell_type": "markdown",
   "metadata": {},
   "source": [
    "# I. matplotlib\n",
    "`matplotlib` is a library for creating plots and visualizations in Python. Matplotlib has a comprehensive API which can be a little overwhelming at first, but once you master a few of the basics it can be very powerful. The [matplotlib documentation](https://matplotlib.org/) is very helpful and provides lots of examples you can refer to. \n",
    "\n",
    "In this notebook, we'll see a few basic examples of how to generate and customize plots before adding real data to perform analysis and generate insights.\n",
    "\n",
    "We'll start by importing matplotlib. It's common practice to assign matplotlib the alias of `plt`. We also call a **magic function**, which is specific to IPython enviornments, to display the plots within the Jupyter environment."
   ]
  },
  {
   "cell_type": "code",
   "execution_count": null,
   "metadata": {},
   "outputs": [],
   "source": [
    "import matplotlib.pyplot as plt\n",
    "\n",
    "# Magic function\n",
    "%matplotlib inline"
   ]
  },
  {
   "cell_type": "markdown",
   "metadata": {},
   "source": [
    "Let's create some data to work with. We'll start with some simple linear data. We'll define `x` and `y` variables of consecutive numbers from 0-4 using the built-in `range` function:"
   ]
  },
  {
   "cell_type": "code",
   "execution_count": null,
   "metadata": {},
   "outputs": [],
   "source": [
    "x = range(5)\n",
    "y = range(5)"
   ]
  },
  {
   "cell_type": "markdown",
   "metadata": {},
   "source": [
    "#### TODO\n",
    "\n",
    "Now let's plot `x` and `y` together. To do this, we call the `plt.plot` method and pass in the two arrays as positional arguments:"
   ]
  },
  {
   "cell_type": "code",
   "execution_count": null,
   "metadata": {},
   "outputs": [],
   "source": [
    "plt.plot(x, y)"
   ]
  },
  {
   "cell_type": "markdown",
   "metadata": {},
   "source": [
    "Matplotlib assigns default values for visualization properties like color and linestyle. But we can customize this using **keyword arguments** in the `plt.plot` method. Let's plot `x` and `y` again, but modify some of the following properties:\n",
    "\n",
    "- `marker`: What symbol to use as a marker for each data point (default is none)\n",
    "- `markersize`: How large to make the datapoint markers\n",
    "- `color`: The color to use for the line and markers. Colors can be represented as either:\n",
    "    - **RGB**: (31,119,180)\n",
    "    - **hex strings**: \"#1f77b4\" \n",
    "    - **Color palette abbreviations**: **\"C0\"** - **\"C9\"** (see [this page](https://matplotlib.org/users/dflt_style_changes.html) for examples\n",
    "    - **Name strings**: \"blue\", \"green\", etc.\n",
    "- `linestyle`: Default is a solid line"
   ]
  },
  {
   "cell_type": "markdown",
   "metadata": {},
   "source": [
    "After we generate the plot, we can call other methods to change additional properties of the plot. For example, we can add a title and label the two axes. This allows us to give our audience a clearer explanation of our visualization."
   ]
  },
  {
   "cell_type": "code",
   "execution_count": null,
   "metadata": {},
   "outputs": [],
   "source": [
    "plt.plot(x, y, marker=\"o\", markersize=12, color=\"C1\", linestyle=\"--\")\n",
    "plt.title(\"A line plot\")\n",
    "plt.xlabel(\"X-axis\")\n",
    "plt.ylabel(\"Y-axis\")"
   ]
  },
  {
   "cell_type": "markdown",
   "metadata": {},
   "source": [
    "The line plot is just one of many types of visualizations. Different types of data are displayed best by different visualizations. Line plots are best for showing **sequential** data, particularly **time series**. \n",
    "\n",
    "Let's explore some other types of visualizations. "
   ]
  },
  {
   "cell_type": "markdown",
   "metadata": {},
   "source": [
    "## Bar Graphs\n",
    "Bar graphs look similar to histograms but display different information. Whereas histograms uses bars to represent the counts of data values within binned ranges, bar graphs use bars to display the actual values. \\\n",
    "\n",
    "The `plt.bar` takes two arguments: \n",
    "- `x`, the points on the x-axis to plot the bars\n",
    "- `heights`: the size of the bars to graph"
   ]
  },
  {
   "cell_type": "code",
   "execution_count": null,
   "metadata": {},
   "outputs": [],
   "source": [
    "plt.bar([0, 1, 2, 3, 4], x)"
   ]
  },
  {
   "cell_type": "markdown",
   "metadata": {},
   "source": [
    "You can also plot a horizontal bar graph with `plt.barh`:"
   ]
  },
  {
   "cell_type": "code",
   "execution_count": null,
   "metadata": {},
   "outputs": [],
   "source": [
    "plt.barh([0, 1, 2, 3, 4], x)"
   ]
  },
  {
   "cell_type": "markdown",
   "metadata": {},
   "source": [
    "## Scatter Plot\n",
    "Now let's look at a **scatter plot**. Like a line plot, a scatter plot visualizes the relationship between two different variables, but they aren't expected to be sequential or unique. Let's generate two arrays of random numbers and plot them against each other using a scatterplot:\n",
    "\n",
    "Let's create some new data to work with. First, we import `numpy` and give it the alias `np`. Numpy is another library which we'll see throughout the course and offers utilities for dealing with numbers and statistics. Here, we'll use the `rand` function from the `np.random` module to generate 100 random numbers between 0 and 1:"
   ]
  },
  {
   "cell_type": "code",
   "execution_count": null,
   "metadata": {},
   "outputs": [],
   "source": [
    "import numpy as np"
   ]
  },
  {
   "cell_type": "code",
   "execution_count": null,
   "metadata": {},
   "outputs": [],
   "source": [
    "x = np.random.rand(100)\n",
    "y = np.random.rand(100)"
   ]
  },
  {
   "cell_type": "markdown",
   "metadata": {},
   "source": [
    "Now we can plot them using the `plt.scatter` method:"
   ]
  },
  {
   "cell_type": "code",
   "execution_count": null,
   "metadata": {},
   "outputs": [],
   "source": [
    "plt.scatter(x, y)"
   ]
  },
  {
   "cell_type": "markdown",
   "metadata": {},
   "source": [
    "## Histograms\n",
    "**Histograms** show the distribution of a dataset. It splits a population up into discrete **bins**, where each bin represents a range of values, and displays the count of how many data points fit in that range."
   ]
  },
  {
   "cell_type": "code",
   "execution_count": null,
   "metadata": {},
   "outputs": [],
   "source": [
    "plt.hist(x)"
   ]
  },
  {
   "cell_type": "markdown",
   "metadata": {},
   "source": [
    "One property of histograms we can change is the number of bins. A large number of bins will show more detail of the dataset, but you might start to lose some of the larger picture. Let's manually set the number of bins to 20:"
   ]
  },
  {
   "cell_type": "code",
   "execution_count": null,
   "metadata": {},
   "outputs": [],
   "source": [
    "plt.hist(x, bins=20)"
   ]
  },
  {
   "cell_type": "markdown",
   "metadata": {},
   "source": [
    "# II. seaborn"
   ]
  },
  {
   "cell_type": "markdown",
   "metadata": {},
   "source": [
    "Matplotlib is often combined with the library `seaborn`, which offers additional style and plotting utilities. You can change the default plotting styles by calling `sns.set()`. This will add some additional color to your plots. Now when we call a matplotlib function, there are some new style properties automatically implemented:"
   ]
  },
  {
   "cell_type": "code",
   "execution_count": null,
   "metadata": {},
   "outputs": [],
   "source": [
    "import seaborn as sns\n",
    "sns.set()"
   ]
  },
  {
   "cell_type": "markdown",
   "metadata": {},
   "source": [
    "#### TODO\n",
    "With the new style settings now set by seaborn, call the `hist` method to generate a histogram of `x`:"
   ]
  },
  {
   "cell_type": "code",
   "execution_count": null,
   "metadata": {},
   "outputs": [],
   "source": [
    "plt.____(x)"
   ]
  },
  {
   "cell_type": "markdown",
   "metadata": {},
   "source": [
    "Seaborn also offers its own helpful methods for generating plots which can create more sophisticated plots than matplotlib. The `distplot` function generates a histogram and adds a **kernel density plot**, which is a curved line showing the distribution of the data."
   ]
  },
  {
   "cell_type": "code",
   "execution_count": null,
   "metadata": {},
   "outputs": [],
   "source": [
    "sns.distplot(x, bins=10)"
   ]
  },
  {
   "cell_type": "markdown",
   "metadata": {},
   "source": [
    "## BMI dataset\n",
    "Let's try using matplotlib with more concrete data. In the cell below, two lists are defined which contain the first 10 values of a dataset of BMI measurments. BMI is calculated as a function of weight and height, so let's explore how these two measurements relate to each other."
   ]
  },
  {
   "cell_type": "code",
   "execution_count": null,
   "metadata": {},
   "outputs": [],
   "source": [
    "weights = [50, 51, 51, 51, 52, 52, 54, 54, 54, 55]\n",
    "heights = [150, 155, 160, 153, 156, 157, 169, 154, 148, 151]"
   ]
  },
  {
   "cell_type": "markdown",
   "metadata": {},
   "source": [
    "#### TODO\n",
    "Use matplotlib to plot these two variables together.\n",
    "- Generate a scatter plot below with **weights** ax the x-axis and **heights** on the y-axis\n",
    "- Add labels to both axes and a title\n",
    "- Change the color of the markers to any color of your choice. You can pass in the name of a color, a hex color code, or an RGB value. See the [matplotlib documentation](https://matplotlib.org/2.0.2/api/colors_api.html#module-matplotlib.colors) for more details"
   ]
  },
  {
   "cell_type": "code",
   "execution_count": null,
   "metadata": {},
   "outputs": [],
   "source": [
    "plt.scatter(x=___, y=___, color=___, s=50)\n",
    "plt.xlabel(___)\n",
    "plt.___(\"Height\")\n",
    "___.___(\"Weight vs. Height\")"
   ]
  },
  {
   "cell_type": "markdown",
   "metadata": {},
   "source": [
    "# Next Steps\n",
    "Next, we'll combine matplotlib and seaborn with the package `pandas` to analyze a larger dataset of BMI measurements.\n",
    "\n",
    "[./02-pandas.ipynb](./02-pandas.ipynb)"
   ]
  },
  {
   "cell_type": "code",
   "execution_count": null,
   "metadata": {},
   "outputs": [],
   "source": []
  }
 ],
 "metadata": {
  "kernelspec": {
   "display_name": "Python 3",
   "language": "python",
   "name": "python3"
  },
  "language_info": {
   "codemirror_mode": {
    "name": "ipython",
    "version": 3
   },
   "file_extension": ".py",
   "mimetype": "text/x-python",
   "name": "python",
   "nbconvert_exporter": "python",
   "pygments_lexer": "ipython3",
   "version": "3.7.9"
  }
 },
 "nbformat": 4,
 "nbformat_minor": 2
}
