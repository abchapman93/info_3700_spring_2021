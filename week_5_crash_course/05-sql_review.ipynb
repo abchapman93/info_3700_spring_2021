{
 "cells": [
  {
   "cell_type": "markdown",
   "metadata": {},
   "source": [
    "# Overview\n",
    "\n",
    "In this notebook we'll do a quick review of SQL."
   ]
  },
  {
   "cell_type": "markdown",
   "metadata": {},
   "source": [
    "# III. SQL\n",
    "SQL stands for \"Structured Query Language\". It is used to retrieve data from relational databases, perform aggregations on them, and return them in formats which are useful.\n",
    "\n",
    "Here is a very quick overview of how SQL works:"
   ]
  },
  {
   "cell_type": "markdown",
   "metadata": {},
   "source": [
    "## SQL Query\n",
    "SQL code consists of **queries** which are executed to run commands against the database you're working in. At a very basic level, queries consist of a `select` clause, a `from` clause, and a number of optional clauses clause like a `where` clause, `limit` clause, and `order by`."
   ]
  },
  {
   "cell_type": "markdown",
   "metadata": {},
   "source": [
    "## `select` statement\n",
    "This part of the query specifies which columns of data to return. For example, the following query will select the `employee_id`, `employee_first_name`, and `employee_last_name` values from an imaginary table:\n",
    "\n",
    "```\n",
    "select employee_id, employee_first_name, employee_last_name\n",
    "...\n",
    "```"
   ]
  },
  {
   "cell_type": "markdown",
   "metadata": {},
   "source": [
    "## `from` statement\n",
    "This part of the query tells SQL which tables to retreiev the data from. In this example, we want to get the employee ids and names from a table called `employees`:\n",
    "\n",
    "```\n",
    "select employee_id, employee_first_name, employee_last_name\n",
    "from employees\n",
    "...\n",
    "```"
   ]
  },
  {
   "cell_type": "markdown",
   "metadata": {},
   "source": [
    "## `where` statement\n",
    "This filters the results of our query to only look at certain values. This query will only return data for employees whose first name is \"Alex\":\n",
    "```\n",
    "select employee_id, employee_first_name, employee_last_name\n",
    "from employees\n",
    "where employee_first_name = \"Alex\"\n",
    "```"
   ]
  },
  {
   "cell_type": "markdown",
   "metadata": {},
   "source": [
    "## Other statements:\n",
    "Only the `select` and `from` statements are needed to run a query. But there are many statements which can be very useful, such as:\n",
    "- `limit 100`: Limit to the first 100 rows (or whatever number)\n",
    "- `order by last_name`: Sort the results in alphabetical order according to a specific column, such as `last_name`\n",
    "\n",
    "Here's an example of the query which puts all of these together:\n",
    "\n",
    "```\n",
    "select employee_id, employee_first_name, employee_last_name\n",
    "from employees\n",
    "where employee_first_name = \"Alex\"\n",
    "order by last_name\n",
    "limit 100;\n",
    "```"
   ]
  },
  {
   "cell_type": "markdown",
   "metadata": {},
   "source": [
    "# IV. MIMIC-II\n",
    "MIMIC is an openly available clinical database. It's **de-identified**, meaning that any information which would connect a patient to their data has been removed or altered. That means that we have access to it as researchers, students, and developers. \n",
    "\n",
    "MIMIC-II has been updated to MIMIC-III, which is similar but contains patients for living patients, while MIMIC-II has only deceased patients. MIMIC-III requires a data usage agreement, so we will instead use the older version. The two versions are very similar and contain a lot of the same data.\n",
    "\n",
    "Here is a description of MIMIC-III from the [MIMIC website](https://mimic.physionet.org/):\n",
    "\n",
    "***\n",
    "MIMIC-III (Medical Information Mart for Intensive Care III) is a large, freely-available database comprising deidentified health-related data associated with over forty thousand patients who stayed in critical care units of the Beth Israel Deaconess Medical Center between 2001 and 2012.\n",
    "\n",
    "The database includes information such as demographics, vital sign measurements made at the bedside (~1 data point per hour), laboratory test results, procedures, medications, caregiver notes, imaging reports, and mortality (both in and out of hospital).\n",
    "\n",
    "MIMIC supports a diverse range of analytic studies spanning epidemiology, clinical decision-rule improvement, and electronic tool development. It is notable for three factors:\n",
    "\n",
    "- it is freely available to researchers worldwide\n",
    "- it encompasses a diverse and very large population of ICU patients\n",
    "- it contains high temporal resolution data including lab results, electronic documentation, and bedside monitor trends and waveforms.\n",
    "***"
   ]
  },
  {
   "cell_type": "markdown",
   "metadata": {},
   "source": [
    "We will use Python and SQL to access an instance of SQL which is set up on Google Cloud. You'll need a password to access it; ask your instructor if you don't know it.\n",
    "\n",
    "First, we'll import the libraries which will allow us to connect to the database:"
   ]
  },
  {
   "cell_type": "code",
   "execution_count": null,
   "metadata": {},
   "outputs": [],
   "source": [
    "# Pandas is a library which allows us to work with tabular data from a number of different formats,\n",
    "# including SQL\n",
    "import pandas as pd\n",
    "\n",
    "# pymysql will run MySQL in Python\n",
    "import pymysql\n",
    "\n",
    "# Finally, getpass will allow us to type our password in:\n",
    "import getpass"
   ]
  },
  {
   "cell_type": "markdown",
   "metadata": {},
   "source": [
    "The host name, username, and database name have been defined for you. When prompted, enter your password:"
   ]
  },
  {
   "cell_type": "code",
   "execution_count": null,
   "metadata": {},
   "outputs": [],
   "source": [
    "conn = pymysql.connect(host=\"35.233.174.193\",port=3306,\n",
    "                       user=\"jovyan\",passwd=getpass.getpass(\"Enter password for MIMIC2 database\"),\n",
    "                       db='mimic2')"
   ]
  },
  {
   "cell_type": "markdown",
   "metadata": {},
   "source": [
    "If you didn't get an error, then that means it worked! Let's run our first query against MIMIC to see what tables are in the database:"
   ]
  },
  {
   "cell_type": "code",
   "execution_count": null,
   "metadata": {
    "scrolled": true
   },
   "outputs": [],
   "source": [
    "# Define a query as a string\n",
    "query = \"\"\"\n",
    "show tables;\n",
    "\"\"\"\n",
    "\n",
    "# Pass the query and our MySQL connection to pandas. \n",
    "# Store the result a variable called df (DataFrame)\n",
    "df = pd.read_sql(query, conn)\n",
    "df"
   ]
  },
  {
   "cell_type": "code",
   "execution_count": null,
   "metadata": {},
   "outputs": [],
   "source": []
  }
 ],
 "metadata": {
  "kernelspec": {
   "display_name": "Python 3",
   "language": "python",
   "name": "python3"
  },
  "language_info": {
   "codemirror_mode": {
    "name": "ipython",
    "version": 3
   },
   "file_extension": ".py",
   "mimetype": "text/x-python",
   "name": "python",
   "nbconvert_exporter": "python",
   "pygments_lexer": "ipython3",
   "version": "3.7.3"
  }
 },
 "nbformat": 4,
 "nbformat_minor": 2
}
