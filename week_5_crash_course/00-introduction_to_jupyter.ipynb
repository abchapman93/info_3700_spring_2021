{
 "cells": [
  {
   "cell_type": "markdown",
   "metadata": {},
   "source": [
    "# Overview\n",
    "\n",
    "Before class, you should have completed several DataCamp courses introducing you to Python. You should already have some familiarity with Python syntax and data structures. This week, you will start running Python on your machine. We will be using an environment called **Jupyter Notebooks**, which allow for interactive coding and display.\n",
    "\n",
    "We'll start with a quick overview of how to use Jupyter Notebooks. Then we'll review some of the main Python packages we'll be using in class for visualizing and analyzing data. After class, a couple of notebooks are available for you to optionally review Python and SQL basics.\n",
    "\n",
    "## Agenda\n",
    "- Introduction to Using Jupyter Notebooks\n",
    "- Data Visualization in Python\n",
    "- Using Pandas to Process and Analyze Data\n",
    "- (opt. at home) Python and SQL Review"
   ]
  },
  {
   "cell_type": "markdown",
   "metadata": {},
   "source": [
    "## TODO and Discussion items\n",
    "Throughout these notebooks, you'll see sections marked **TODO** or **Discussion**. Whenever you see a todo section, you'll be asked to edit or complete code. Parts of code which you need to edit will have placeholders of three underscores: `___`. You should replace these underscores with the correct snippet of code. This syntax should be familiar with you as the convention used by DataCamp.\n",
    "\n",
    "For example, if you are asked to edit the cell below to print out the text \"Hello, world!\", you should change this cell (which won't run correctly until you change it):"
   ]
  },
  {
   "cell_type": "code",
   "execution_count": null,
   "metadata": {},
   "outputs": [],
   "source": [
    "___(\"Hello, world!\")"
   ]
  },
  {
   "cell_type": "markdown",
   "metadata": {},
   "source": [
    "To this:"
   ]
  },
  {
   "cell_type": "code",
   "execution_count": null,
   "metadata": {},
   "outputs": [],
   "source": [
    "print(\"Hello, world!\")"
   ]
  },
  {
   "cell_type": "markdown",
   "metadata": {},
   "source": [
    "# I. Jupyter Notebooks\n",
    "Jupyter Notebooks are an environment which can be used for running code, displaying results and visualizations, and sharing human-readable information. Jupyter notebooks consist of *cells* and each cell defines a single piece of code. \n",
    "\n",
    "The cell which you're reading now is called a *Markdown* cell: It is meant to be human-readable and allows formatting like:\n",
    "- Bullted or numbered lists\n",
    "- **bold text**\n",
    "- *italics*\n",
    "\n",
    "Double-click on this cell to see what the raw markdown looks like. Then press `\"Run\"` or hit \"Shift+Enter\" to re-execute the cell so it renders in your browser. "
   ]
  },
  {
   "cell_type": "markdown",
   "metadata": {},
   "source": [
    "The other main cell type is the **Code** cell. This contains executable Python code. When you run a code cell, it will execute the code within and display the output. This way, you can go through a notebook a run code step-by-step and inspect the output.\n",
    "\n",
    "\n",
    "You can change a cell type by clicking the dropdown menu above which says **\"Markdown\"**. To make it a Python cell, select **\"Code\"**."
   ]
  },
  {
   "cell_type": "code",
   "execution_count": null,
   "metadata": {},
   "outputs": [],
   "source": [
    "print(\"This is a code cell.\")"
   ]
  },
  {
   "cell_type": "markdown",
   "metadata": {},
   "source": [
    "### TODO\n",
    "Change the cell below to be a code cell. Then run the cell by hitting either the `\"Run\"` button above (looks like a \"play\" button\") or hitting \"Shift+Enter\". "
   ]
  },
  {
   "cell_type": "markdown",
   "metadata": {},
   "source": [
    "print(\"Hello, there!\")"
   ]
  },
  {
   "cell_type": "markdown",
   "metadata": {},
   "source": [
    "Note that in the code cell above, when we execute the cell it runs the single line of code and then displays the output underneath."
   ]
  },
  {
   "cell_type": "markdown",
   "metadata": {},
   "source": [
    "To create a new cell, press the **\"+\"** buttom in the menu. The default cell type is **Code**.\n",
    "\n",
    "### TODO\n",
    "Create two new cells below. Make the first cell a Markdown cell. Copy and paste the following text into the Markdown cell and edit it with your information. Run the cell. Notice how the formatting of the text is rendered once you execute the cell.\n",
    "\n",
    "```\n",
    "- **First Name**: your first name\n",
    "- **Last Name**: your last name\n",
    "- **Major**: Your major\n",
    "```\n",
    "\n",
    "Then, make the second cell a Code cell. Copy and paste the following code and execute it:\n",
    "\n",
    "```\n",
    "print(\"1 + 2 = \", 1 + 2)\n",
    "```"
   ]
  },
  {
   "cell_type": "code",
   "execution_count": null,
   "metadata": {},
   "outputs": [],
   "source": []
  },
  {
   "cell_type": "markdown",
   "metadata": {},
   "source": [
    "# II. Importing libraries"
   ]
  },
  {
   "cell_type": "markdown",
   "metadata": {},
   "source": [
    "Python is an open-source language has a comprehensive community. Many other people have written code which will be useful to us and we want to use in our own projects. We can use these libraries by adding them to our Python environment. The way we do this is by using the `import` statement:"
   ]
  },
  {
   "cell_type": "code",
   "execution_count": null,
   "metadata": {},
   "outputs": [],
   "source": [
    "import math"
   ]
  },
  {
   "cell_type": "markdown",
   "metadata": {},
   "source": [
    "Now we can use anything which was defined in the `math` library:"
   ]
  },
  {
   "cell_type": "code",
   "execution_count": null,
   "metadata": {},
   "outputs": [],
   "source": [
    "math.sqrt(4)"
   ]
  },
  {
   "cell_type": "code",
   "execution_count": null,
   "metadata": {},
   "outputs": [],
   "source": [
    "math.floor(2.1)"
   ]
  },
  {
   "cell_type": "code",
   "execution_count": null,
   "metadata": {},
   "outputs": [],
   "source": [
    "math.pi"
   ]
  },
  {
   "cell_type": "markdown",
   "metadata": {},
   "source": [
    "# III. Installing packages\n",
    "Before importing a package (also called a library), you first have to have it installed. Some libraries, such as `math` and `random`, come pre-installed with Anaconda. Other times we'll have to install the package ourselves. This is something which you don't have to deal with in DataCamp, and until you get used to it can be a little confusing.\n",
    "\n",
    "If you try to import a module which you don't have installed, you'll get an `ModuleNotFoundError`. This is going to be a very frequent error which we run into, so it's important that you know how to read it and how to fix it.\n",
    "\n",
    "Let's look at an example here. We'll try to import a package called `spacy`, which we'll use in the NLP module later in the course:"
   ]
  },
  {
   "cell_type": "code",
   "execution_count": null,
   "metadata": {},
   "outputs": [],
   "source": [
    "import spacy"
   ]
  },
  {
   "cell_type": "markdown",
   "metadata": {},
   "source": [
    "Unless you've already done some work installing packages, you should have gotten an error message which said:\n",
    "\n",
    "**ModuleNotFoundError: No module named 'spacy'**\n",
    "\n",
    "Python is telling us that we haven't installed spacy yet. \n",
    "\n",
    "To install packages we'll use a command-line tool called `pip`, which stands for **\"PIP Installs Packages\"**.\n",
    "\n",
    "- Open a terminal (**\"Terminal\"** for Mac, **\"Anaconda Prompt\"** for Windows)\n",
    "- Type:\n",
    "```bash\n",
    "pip install spacy\n",
    "```\n",
    "\n",
    "The console will print out a lot of information. You might get some warnings, which are often safe to ignore. You might get an error, in which case you'll need to do a little troubleshooting. But you should eventually get a message like this:\n",
    "\n",
    "```bash\n",
    "Successfully installed spacy-...\n",
    "```"
   ]
  },
  {
   "cell_type": "markdown",
   "metadata": {},
   "source": [
    "Now, you can import spacy:"
   ]
  },
  {
   "cell_type": "code",
   "execution_count": null,
   "metadata": {},
   "outputs": [],
   "source": [
    "import spacy"
   ]
  },
  {
   "cell_type": "markdown",
   "metadata": {},
   "source": [
    "We'll typically start out a coding module by installing a list of packages which will be needed for that week. If you run into errors, try to read the error message. Googling any errors is often the best way to find a solution."
   ]
  },
  {
   "cell_type": "code",
   "execution_count": null,
   "metadata": {},
   "outputs": [],
   "source": []
  },
  {
   "cell_type": "markdown",
   "metadata": {},
   "source": [
    "# Next Steps\n",
    "Now that we've reviewed some basic usage of Python, let's explore some of the main libraries we'll be using in this course. Our coding workshops will be oriented to data science and we'll focus on a few very powerful data science libraries.\n",
    "\n",
    "[./01-visualization_packages.ipynb](./01-visualization_packages.ipynb)"
   ]
  },
  {
   "cell_type": "code",
   "execution_count": null,
   "metadata": {},
   "outputs": [],
   "source": []
  }
 ],
 "metadata": {
  "kernelspec": {
   "display_name": "Python 3",
   "language": "python",
   "name": "python3"
  },
  "language_info": {
   "codemirror_mode": {
    "name": "ipython",
    "version": 3
   },
   "file_extension": ".py",
   "mimetype": "text/x-python",
   "name": "python",
   "nbconvert_exporter": "python",
   "pygments_lexer": "ipython3",
   "version": "3.7.9"
  }
 },
 "nbformat": 4,
 "nbformat_minor": 2
}
